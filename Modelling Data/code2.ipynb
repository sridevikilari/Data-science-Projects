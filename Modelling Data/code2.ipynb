{
 "cells": [
  {
   "cell_type": "code",
   "execution_count": 1,
   "metadata": {
    "collapsed": true
   },
   "outputs": [],
   "source": [
    "#Data Retreiving\n",
    "#importing dataset using urllib2\n",
    "import urllib2\n",
    "url=\"http://archive.ics.uci.edu/ml/machine-learning-databases/00350/default%20of%20credit%20card%20clients.xls\"\n",
    "set1 = urllib2.Request(url)\n",
    "Client = urllib2.urlopen(set1)\n"
   ]
  },
  {
   "cell_type": "code",
   "execution_count": 2,
   "metadata": {
    "collapsed": true
   },
   "outputs": [],
   "source": [
    "#read data using pandas library\n",
    "import pandas as pd\n",
    "client = pd.read_excel(Client,skiprows=1,\n",
    "names=['ID','LIMIT_BAL','SEX','EDUCATION','MARRIAGE','AGE','PAY_0','PAY_2','PAY_3','PAY_4','PAY_5','PAY_6','BILL_AMT1','BILL_AMT2','BILL_AMT3','BILL_AMT4','BILL_AMT5','BILL_AMT6','PAY_AMT1','PAY_AMT2','PAY_AMT3','PAY_AMT4',\n",
    "                                                  'PAY_AMT5','PAY_AMT6','default payment next month'])\n"
   ]
  },
  {
   "cell_type": "code",
   "execution_count": 3,
   "metadata": {},
   "outputs": [
    {
     "data": {
      "text/plain": [
       "(30000, 25)"
      ]
     },
     "execution_count": 3,
     "metadata": {},
     "output_type": "execute_result"
    }
   ],
   "source": [
    "#Find number of rows and columns\n",
    "client.shape"
   ]
  },
  {
   "cell_type": "code",
   "execution_count": 4,
   "metadata": {
    "scrolled": true
   },
   "outputs": [
    {
     "data": {
      "text/plain": [
       "ID                            int64\n",
       "LIMIT_BAL                     int64\n",
       "SEX                           int64\n",
       "EDUCATION                     int64\n",
       "MARRIAGE                      int64\n",
       "AGE                           int64\n",
       "PAY_0                         int64\n",
       "PAY_2                         int64\n",
       "PAY_3                         int64\n",
       "PAY_4                         int64\n",
       "PAY_5                         int64\n",
       "PAY_6                         int64\n",
       "BILL_AMT1                     int64\n",
       "BILL_AMT2                     int64\n",
       "BILL_AMT3                     int64\n",
       "BILL_AMT4                     int64\n",
       "BILL_AMT5                     int64\n",
       "BILL_AMT6                     int64\n",
       "PAY_AMT1                      int64\n",
       "PAY_AMT2                      int64\n",
       "PAY_AMT3                      int64\n",
       "PAY_AMT4                      int64\n",
       "PAY_AMT5                      int64\n",
       "PAY_AMT6                      int64\n",
       "default payment next month    int64\n",
       "dtype: object"
      ]
     },
     "execution_count": 4,
     "metadata": {},
     "output_type": "execute_result"
    }
   ],
   "source": [
    "#Check data-types\n",
    "client.dtypes"
   ]
  },
  {
   "cell_type": "code",
   "execution_count": 5,
   "metadata": {
    "scrolled": true
   },
   "outputs": [
    {
     "data": {
      "text/html": [
       "<div>\n",
       "<style scoped>\n",
       "    .dataframe tbody tr th:only-of-type {\n",
       "        vertical-align: middle;\n",
       "    }\n",
       "\n",
       "    .dataframe tbody tr th {\n",
       "        vertical-align: top;\n",
       "    }\n",
       "\n",
       "    .dataframe thead th {\n",
       "        text-align: right;\n",
       "    }\n",
       "</style>\n",
       "<table border=\"1\" class=\"dataframe\">\n",
       "  <thead>\n",
       "    <tr style=\"text-align: right;\">\n",
       "      <th></th>\n",
       "      <th>ID</th>\n",
       "      <th>LIMIT_BAL</th>\n",
       "      <th>SEX</th>\n",
       "      <th>EDUCATION</th>\n",
       "      <th>MARRIAGE</th>\n",
       "      <th>AGE</th>\n",
       "      <th>PAY_0</th>\n",
       "      <th>PAY_2</th>\n",
       "      <th>PAY_3</th>\n",
       "      <th>PAY_4</th>\n",
       "      <th>...</th>\n",
       "      <th>BILL_AMT4</th>\n",
       "      <th>BILL_AMT5</th>\n",
       "      <th>BILL_AMT6</th>\n",
       "      <th>PAY_AMT1</th>\n",
       "      <th>PAY_AMT2</th>\n",
       "      <th>PAY_AMT3</th>\n",
       "      <th>PAY_AMT4</th>\n",
       "      <th>PAY_AMT5</th>\n",
       "      <th>PAY_AMT6</th>\n",
       "      <th>default payment next month</th>\n",
       "    </tr>\n",
       "  </thead>\n",
       "  <tbody>\n",
       "    <tr>\n",
       "      <th>0</th>\n",
       "      <td>1</td>\n",
       "      <td>20000</td>\n",
       "      <td>2</td>\n",
       "      <td>2</td>\n",
       "      <td>1</td>\n",
       "      <td>24</td>\n",
       "      <td>2</td>\n",
       "      <td>2</td>\n",
       "      <td>-1</td>\n",
       "      <td>-1</td>\n",
       "      <td>...</td>\n",
       "      <td>0</td>\n",
       "      <td>0</td>\n",
       "      <td>0</td>\n",
       "      <td>0</td>\n",
       "      <td>689</td>\n",
       "      <td>0</td>\n",
       "      <td>0</td>\n",
       "      <td>0</td>\n",
       "      <td>0</td>\n",
       "      <td>1</td>\n",
       "    </tr>\n",
       "    <tr>\n",
       "      <th>1</th>\n",
       "      <td>2</td>\n",
       "      <td>120000</td>\n",
       "      <td>2</td>\n",
       "      <td>2</td>\n",
       "      <td>2</td>\n",
       "      <td>26</td>\n",
       "      <td>-1</td>\n",
       "      <td>2</td>\n",
       "      <td>0</td>\n",
       "      <td>0</td>\n",
       "      <td>...</td>\n",
       "      <td>3272</td>\n",
       "      <td>3455</td>\n",
       "      <td>3261</td>\n",
       "      <td>0</td>\n",
       "      <td>1000</td>\n",
       "      <td>1000</td>\n",
       "      <td>1000</td>\n",
       "      <td>0</td>\n",
       "      <td>2000</td>\n",
       "      <td>1</td>\n",
       "    </tr>\n",
       "    <tr>\n",
       "      <th>2</th>\n",
       "      <td>3</td>\n",
       "      <td>90000</td>\n",
       "      <td>2</td>\n",
       "      <td>2</td>\n",
       "      <td>2</td>\n",
       "      <td>34</td>\n",
       "      <td>0</td>\n",
       "      <td>0</td>\n",
       "      <td>0</td>\n",
       "      <td>0</td>\n",
       "      <td>...</td>\n",
       "      <td>14331</td>\n",
       "      <td>14948</td>\n",
       "      <td>15549</td>\n",
       "      <td>1518</td>\n",
       "      <td>1500</td>\n",
       "      <td>1000</td>\n",
       "      <td>1000</td>\n",
       "      <td>1000</td>\n",
       "      <td>5000</td>\n",
       "      <td>0</td>\n",
       "    </tr>\n",
       "    <tr>\n",
       "      <th>3</th>\n",
       "      <td>4</td>\n",
       "      <td>50000</td>\n",
       "      <td>2</td>\n",
       "      <td>2</td>\n",
       "      <td>1</td>\n",
       "      <td>37</td>\n",
       "      <td>0</td>\n",
       "      <td>0</td>\n",
       "      <td>0</td>\n",
       "      <td>0</td>\n",
       "      <td>...</td>\n",
       "      <td>28314</td>\n",
       "      <td>28959</td>\n",
       "      <td>29547</td>\n",
       "      <td>2000</td>\n",
       "      <td>2019</td>\n",
       "      <td>1200</td>\n",
       "      <td>1100</td>\n",
       "      <td>1069</td>\n",
       "      <td>1000</td>\n",
       "      <td>0</td>\n",
       "    </tr>\n",
       "    <tr>\n",
       "      <th>4</th>\n",
       "      <td>5</td>\n",
       "      <td>50000</td>\n",
       "      <td>1</td>\n",
       "      <td>2</td>\n",
       "      <td>1</td>\n",
       "      <td>57</td>\n",
       "      <td>-1</td>\n",
       "      <td>0</td>\n",
       "      <td>-1</td>\n",
       "      <td>0</td>\n",
       "      <td>...</td>\n",
       "      <td>20940</td>\n",
       "      <td>19146</td>\n",
       "      <td>19131</td>\n",
       "      <td>2000</td>\n",
       "      <td>36681</td>\n",
       "      <td>10000</td>\n",
       "      <td>9000</td>\n",
       "      <td>689</td>\n",
       "      <td>679</td>\n",
       "      <td>0</td>\n",
       "    </tr>\n",
       "    <tr>\n",
       "      <th>5</th>\n",
       "      <td>6</td>\n",
       "      <td>50000</td>\n",
       "      <td>1</td>\n",
       "      <td>1</td>\n",
       "      <td>2</td>\n",
       "      <td>37</td>\n",
       "      <td>0</td>\n",
       "      <td>0</td>\n",
       "      <td>0</td>\n",
       "      <td>0</td>\n",
       "      <td>...</td>\n",
       "      <td>19394</td>\n",
       "      <td>19619</td>\n",
       "      <td>20024</td>\n",
       "      <td>2500</td>\n",
       "      <td>1815</td>\n",
       "      <td>657</td>\n",
       "      <td>1000</td>\n",
       "      <td>1000</td>\n",
       "      <td>800</td>\n",
       "      <td>0</td>\n",
       "    </tr>\n",
       "    <tr>\n",
       "      <th>6</th>\n",
       "      <td>7</td>\n",
       "      <td>500000</td>\n",
       "      <td>1</td>\n",
       "      <td>1</td>\n",
       "      <td>2</td>\n",
       "      <td>29</td>\n",
       "      <td>0</td>\n",
       "      <td>0</td>\n",
       "      <td>0</td>\n",
       "      <td>0</td>\n",
       "      <td>...</td>\n",
       "      <td>542653</td>\n",
       "      <td>483003</td>\n",
       "      <td>473944</td>\n",
       "      <td>55000</td>\n",
       "      <td>40000</td>\n",
       "      <td>38000</td>\n",
       "      <td>20239</td>\n",
       "      <td>13750</td>\n",
       "      <td>13770</td>\n",
       "      <td>0</td>\n",
       "    </tr>\n",
       "    <tr>\n",
       "      <th>7</th>\n",
       "      <td>8</td>\n",
       "      <td>100000</td>\n",
       "      <td>2</td>\n",
       "      <td>2</td>\n",
       "      <td>2</td>\n",
       "      <td>23</td>\n",
       "      <td>0</td>\n",
       "      <td>-1</td>\n",
       "      <td>-1</td>\n",
       "      <td>0</td>\n",
       "      <td>...</td>\n",
       "      <td>221</td>\n",
       "      <td>-159</td>\n",
       "      <td>567</td>\n",
       "      <td>380</td>\n",
       "      <td>601</td>\n",
       "      <td>0</td>\n",
       "      <td>581</td>\n",
       "      <td>1687</td>\n",
       "      <td>1542</td>\n",
       "      <td>0</td>\n",
       "    </tr>\n",
       "    <tr>\n",
       "      <th>8</th>\n",
       "      <td>9</td>\n",
       "      <td>140000</td>\n",
       "      <td>2</td>\n",
       "      <td>3</td>\n",
       "      <td>1</td>\n",
       "      <td>28</td>\n",
       "      <td>0</td>\n",
       "      <td>0</td>\n",
       "      <td>2</td>\n",
       "      <td>0</td>\n",
       "      <td>...</td>\n",
       "      <td>12211</td>\n",
       "      <td>11793</td>\n",
       "      <td>3719</td>\n",
       "      <td>3329</td>\n",
       "      <td>0</td>\n",
       "      <td>432</td>\n",
       "      <td>1000</td>\n",
       "      <td>1000</td>\n",
       "      <td>1000</td>\n",
       "      <td>0</td>\n",
       "    </tr>\n",
       "    <tr>\n",
       "      <th>9</th>\n",
       "      <td>10</td>\n",
       "      <td>20000</td>\n",
       "      <td>1</td>\n",
       "      <td>3</td>\n",
       "      <td>2</td>\n",
       "      <td>35</td>\n",
       "      <td>-2</td>\n",
       "      <td>-2</td>\n",
       "      <td>-2</td>\n",
       "      <td>-2</td>\n",
       "      <td>...</td>\n",
       "      <td>0</td>\n",
       "      <td>13007</td>\n",
       "      <td>13912</td>\n",
       "      <td>0</td>\n",
       "      <td>0</td>\n",
       "      <td>0</td>\n",
       "      <td>13007</td>\n",
       "      <td>1122</td>\n",
       "      <td>0</td>\n",
       "      <td>0</td>\n",
       "    </tr>\n",
       "    <tr>\n",
       "      <th>10</th>\n",
       "      <td>11</td>\n",
       "      <td>200000</td>\n",
       "      <td>2</td>\n",
       "      <td>3</td>\n",
       "      <td>2</td>\n",
       "      <td>34</td>\n",
       "      <td>0</td>\n",
       "      <td>0</td>\n",
       "      <td>2</td>\n",
       "      <td>0</td>\n",
       "      <td>...</td>\n",
       "      <td>2513</td>\n",
       "      <td>1828</td>\n",
       "      <td>3731</td>\n",
       "      <td>2306</td>\n",
       "      <td>12</td>\n",
       "      <td>50</td>\n",
       "      <td>300</td>\n",
       "      <td>3738</td>\n",
       "      <td>66</td>\n",
       "      <td>0</td>\n",
       "    </tr>\n",
       "    <tr>\n",
       "      <th>11</th>\n",
       "      <td>12</td>\n",
       "      <td>260000</td>\n",
       "      <td>2</td>\n",
       "      <td>1</td>\n",
       "      <td>2</td>\n",
       "      <td>51</td>\n",
       "      <td>-1</td>\n",
       "      <td>-1</td>\n",
       "      <td>-1</td>\n",
       "      <td>-1</td>\n",
       "      <td>...</td>\n",
       "      <td>8517</td>\n",
       "      <td>22287</td>\n",
       "      <td>13668</td>\n",
       "      <td>21818</td>\n",
       "      <td>9966</td>\n",
       "      <td>8583</td>\n",
       "      <td>22301</td>\n",
       "      <td>0</td>\n",
       "      <td>3640</td>\n",
       "      <td>0</td>\n",
       "    </tr>\n",
       "    <tr>\n",
       "      <th>12</th>\n",
       "      <td>13</td>\n",
       "      <td>630000</td>\n",
       "      <td>2</td>\n",
       "      <td>2</td>\n",
       "      <td>2</td>\n",
       "      <td>41</td>\n",
       "      <td>-1</td>\n",
       "      <td>0</td>\n",
       "      <td>-1</td>\n",
       "      <td>-1</td>\n",
       "      <td>...</td>\n",
       "      <td>6500</td>\n",
       "      <td>6500</td>\n",
       "      <td>2870</td>\n",
       "      <td>1000</td>\n",
       "      <td>6500</td>\n",
       "      <td>6500</td>\n",
       "      <td>6500</td>\n",
       "      <td>2870</td>\n",
       "      <td>0</td>\n",
       "      <td>0</td>\n",
       "    </tr>\n",
       "    <tr>\n",
       "      <th>13</th>\n",
       "      <td>14</td>\n",
       "      <td>70000</td>\n",
       "      <td>1</td>\n",
       "      <td>2</td>\n",
       "      <td>2</td>\n",
       "      <td>30</td>\n",
       "      <td>1</td>\n",
       "      <td>2</td>\n",
       "      <td>2</td>\n",
       "      <td>0</td>\n",
       "      <td>...</td>\n",
       "      <td>66782</td>\n",
       "      <td>36137</td>\n",
       "      <td>36894</td>\n",
       "      <td>3200</td>\n",
       "      <td>0</td>\n",
       "      <td>3000</td>\n",
       "      <td>3000</td>\n",
       "      <td>1500</td>\n",
       "      <td>0</td>\n",
       "      <td>1</td>\n",
       "    </tr>\n",
       "    <tr>\n",
       "      <th>14</th>\n",
       "      <td>15</td>\n",
       "      <td>250000</td>\n",
       "      <td>1</td>\n",
       "      <td>1</td>\n",
       "      <td>2</td>\n",
       "      <td>29</td>\n",
       "      <td>0</td>\n",
       "      <td>0</td>\n",
       "      <td>0</td>\n",
       "      <td>0</td>\n",
       "      <td>...</td>\n",
       "      <td>59696</td>\n",
       "      <td>56875</td>\n",
       "      <td>55512</td>\n",
       "      <td>3000</td>\n",
       "      <td>3000</td>\n",
       "      <td>3000</td>\n",
       "      <td>3000</td>\n",
       "      <td>3000</td>\n",
       "      <td>3000</td>\n",
       "      <td>0</td>\n",
       "    </tr>\n",
       "    <tr>\n",
       "      <th>15</th>\n",
       "      <td>16</td>\n",
       "      <td>50000</td>\n",
       "      <td>2</td>\n",
       "      <td>3</td>\n",
       "      <td>3</td>\n",
       "      <td>23</td>\n",
       "      <td>1</td>\n",
       "      <td>2</td>\n",
       "      <td>0</td>\n",
       "      <td>0</td>\n",
       "      <td>...</td>\n",
       "      <td>28771</td>\n",
       "      <td>29531</td>\n",
       "      <td>30211</td>\n",
       "      <td>0</td>\n",
       "      <td>1500</td>\n",
       "      <td>1100</td>\n",
       "      <td>1200</td>\n",
       "      <td>1300</td>\n",
       "      <td>1100</td>\n",
       "      <td>0</td>\n",
       "    </tr>\n",
       "    <tr>\n",
       "      <th>16</th>\n",
       "      <td>17</td>\n",
       "      <td>20000</td>\n",
       "      <td>1</td>\n",
       "      <td>1</td>\n",
       "      <td>2</td>\n",
       "      <td>24</td>\n",
       "      <td>0</td>\n",
       "      <td>0</td>\n",
       "      <td>2</td>\n",
       "      <td>2</td>\n",
       "      <td>...</td>\n",
       "      <td>18338</td>\n",
       "      <td>17905</td>\n",
       "      <td>19104</td>\n",
       "      <td>3200</td>\n",
       "      <td>0</td>\n",
       "      <td>1500</td>\n",
       "      <td>0</td>\n",
       "      <td>1650</td>\n",
       "      <td>0</td>\n",
       "      <td>1</td>\n",
       "    </tr>\n",
       "    <tr>\n",
       "      <th>17</th>\n",
       "      <td>18</td>\n",
       "      <td>320000</td>\n",
       "      <td>1</td>\n",
       "      <td>1</td>\n",
       "      <td>1</td>\n",
       "      <td>49</td>\n",
       "      <td>0</td>\n",
       "      <td>0</td>\n",
       "      <td>0</td>\n",
       "      <td>-1</td>\n",
       "      <td>...</td>\n",
       "      <td>70074</td>\n",
       "      <td>5856</td>\n",
       "      <td>195599</td>\n",
       "      <td>10358</td>\n",
       "      <td>10000</td>\n",
       "      <td>75940</td>\n",
       "      <td>20000</td>\n",
       "      <td>195599</td>\n",
       "      <td>50000</td>\n",
       "      <td>0</td>\n",
       "    </tr>\n",
       "    <tr>\n",
       "      <th>18</th>\n",
       "      <td>19</td>\n",
       "      <td>360000</td>\n",
       "      <td>2</td>\n",
       "      <td>1</td>\n",
       "      <td>1</td>\n",
       "      <td>49</td>\n",
       "      <td>1</td>\n",
       "      <td>-2</td>\n",
       "      <td>-2</td>\n",
       "      <td>-2</td>\n",
       "      <td>...</td>\n",
       "      <td>0</td>\n",
       "      <td>0</td>\n",
       "      <td>0</td>\n",
       "      <td>0</td>\n",
       "      <td>0</td>\n",
       "      <td>0</td>\n",
       "      <td>0</td>\n",
       "      <td>0</td>\n",
       "      <td>0</td>\n",
       "      <td>0</td>\n",
       "    </tr>\n",
       "    <tr>\n",
       "      <th>19</th>\n",
       "      <td>20</td>\n",
       "      <td>180000</td>\n",
       "      <td>2</td>\n",
       "      <td>1</td>\n",
       "      <td>2</td>\n",
       "      <td>29</td>\n",
       "      <td>1</td>\n",
       "      <td>-2</td>\n",
       "      <td>-2</td>\n",
       "      <td>-2</td>\n",
       "      <td>...</td>\n",
       "      <td>0</td>\n",
       "      <td>0</td>\n",
       "      <td>0</td>\n",
       "      <td>0</td>\n",
       "      <td>0</td>\n",
       "      <td>0</td>\n",
       "      <td>0</td>\n",
       "      <td>0</td>\n",
       "      <td>0</td>\n",
       "      <td>0</td>\n",
       "    </tr>\n",
       "    <tr>\n",
       "      <th>20</th>\n",
       "      <td>21</td>\n",
       "      <td>130000</td>\n",
       "      <td>2</td>\n",
       "      <td>3</td>\n",
       "      <td>2</td>\n",
       "      <td>39</td>\n",
       "      <td>0</td>\n",
       "      <td>0</td>\n",
       "      <td>0</td>\n",
       "      <td>0</td>\n",
       "      <td>...</td>\n",
       "      <td>20616</td>\n",
       "      <td>11802</td>\n",
       "      <td>930</td>\n",
       "      <td>3000</td>\n",
       "      <td>1537</td>\n",
       "      <td>1000</td>\n",
       "      <td>2000</td>\n",
       "      <td>930</td>\n",
       "      <td>33764</td>\n",
       "      <td>0</td>\n",
       "    </tr>\n",
       "    <tr>\n",
       "      <th>21</th>\n",
       "      <td>22</td>\n",
       "      <td>120000</td>\n",
       "      <td>2</td>\n",
       "      <td>2</td>\n",
       "      <td>1</td>\n",
       "      <td>39</td>\n",
       "      <td>-1</td>\n",
       "      <td>-1</td>\n",
       "      <td>-1</td>\n",
       "      <td>-1</td>\n",
       "      <td>...</td>\n",
       "      <td>0</td>\n",
       "      <td>632</td>\n",
       "      <td>316</td>\n",
       "      <td>316</td>\n",
       "      <td>316</td>\n",
       "      <td>0</td>\n",
       "      <td>632</td>\n",
       "      <td>316</td>\n",
       "      <td>0</td>\n",
       "      <td>1</td>\n",
       "    </tr>\n",
       "    <tr>\n",
       "      <th>22</th>\n",
       "      <td>23</td>\n",
       "      <td>70000</td>\n",
       "      <td>2</td>\n",
       "      <td>2</td>\n",
       "      <td>2</td>\n",
       "      <td>26</td>\n",
       "      <td>2</td>\n",
       "      <td>0</td>\n",
       "      <td>0</td>\n",
       "      <td>2</td>\n",
       "      <td>...</td>\n",
       "      <td>44006</td>\n",
       "      <td>46905</td>\n",
       "      <td>46012</td>\n",
       "      <td>2007</td>\n",
       "      <td>3582</td>\n",
       "      <td>0</td>\n",
       "      <td>3601</td>\n",
       "      <td>0</td>\n",
       "      <td>1820</td>\n",
       "      <td>1</td>\n",
       "    </tr>\n",
       "    <tr>\n",
       "      <th>23</th>\n",
       "      <td>24</td>\n",
       "      <td>450000</td>\n",
       "      <td>2</td>\n",
       "      <td>1</td>\n",
       "      <td>1</td>\n",
       "      <td>40</td>\n",
       "      <td>-2</td>\n",
       "      <td>-2</td>\n",
       "      <td>-2</td>\n",
       "      <td>-2</td>\n",
       "      <td>...</td>\n",
       "      <td>560</td>\n",
       "      <td>0</td>\n",
       "      <td>0</td>\n",
       "      <td>19428</td>\n",
       "      <td>1473</td>\n",
       "      <td>560</td>\n",
       "      <td>0</td>\n",
       "      <td>0</td>\n",
       "      <td>1128</td>\n",
       "      <td>1</td>\n",
       "    </tr>\n",
       "    <tr>\n",
       "      <th>24</th>\n",
       "      <td>25</td>\n",
       "      <td>90000</td>\n",
       "      <td>1</td>\n",
       "      <td>1</td>\n",
       "      <td>2</td>\n",
       "      <td>23</td>\n",
       "      <td>0</td>\n",
       "      <td>0</td>\n",
       "      <td>0</td>\n",
       "      <td>-1</td>\n",
       "      <td>...</td>\n",
       "      <td>5398</td>\n",
       "      <td>6360</td>\n",
       "      <td>8292</td>\n",
       "      <td>5757</td>\n",
       "      <td>0</td>\n",
       "      <td>5398</td>\n",
       "      <td>1200</td>\n",
       "      <td>2045</td>\n",
       "      <td>2000</td>\n",
       "      <td>0</td>\n",
       "    </tr>\n",
       "    <tr>\n",
       "      <th>25</th>\n",
       "      <td>26</td>\n",
       "      <td>50000</td>\n",
       "      <td>1</td>\n",
       "      <td>3</td>\n",
       "      <td>2</td>\n",
       "      <td>23</td>\n",
       "      <td>0</td>\n",
       "      <td>0</td>\n",
       "      <td>0</td>\n",
       "      <td>0</td>\n",
       "      <td>...</td>\n",
       "      <td>28967</td>\n",
       "      <td>29829</td>\n",
       "      <td>30046</td>\n",
       "      <td>1973</td>\n",
       "      <td>1426</td>\n",
       "      <td>1001</td>\n",
       "      <td>1432</td>\n",
       "      <td>1062</td>\n",
       "      <td>997</td>\n",
       "      <td>0</td>\n",
       "    </tr>\n",
       "    <tr>\n",
       "      <th>26</th>\n",
       "      <td>27</td>\n",
       "      <td>60000</td>\n",
       "      <td>1</td>\n",
       "      <td>1</td>\n",
       "      <td>2</td>\n",
       "      <td>27</td>\n",
       "      <td>1</td>\n",
       "      <td>-2</td>\n",
       "      <td>-1</td>\n",
       "      <td>-1</td>\n",
       "      <td>...</td>\n",
       "      <td>-57</td>\n",
       "      <td>127</td>\n",
       "      <td>-189</td>\n",
       "      <td>0</td>\n",
       "      <td>1000</td>\n",
       "      <td>0</td>\n",
       "      <td>500</td>\n",
       "      <td>0</td>\n",
       "      <td>1000</td>\n",
       "      <td>1</td>\n",
       "    </tr>\n",
       "    <tr>\n",
       "      <th>27</th>\n",
       "      <td>28</td>\n",
       "      <td>50000</td>\n",
       "      <td>2</td>\n",
       "      <td>3</td>\n",
       "      <td>2</td>\n",
       "      <td>30</td>\n",
       "      <td>0</td>\n",
       "      <td>0</td>\n",
       "      <td>0</td>\n",
       "      <td>0</td>\n",
       "      <td>...</td>\n",
       "      <td>17878</td>\n",
       "      <td>18931</td>\n",
       "      <td>19617</td>\n",
       "      <td>1300</td>\n",
       "      <td>1300</td>\n",
       "      <td>1000</td>\n",
       "      <td>1500</td>\n",
       "      <td>1000</td>\n",
       "      <td>1012</td>\n",
       "      <td>0</td>\n",
       "    </tr>\n",
       "    <tr>\n",
       "      <th>28</th>\n",
       "      <td>29</td>\n",
       "      <td>50000</td>\n",
       "      <td>2</td>\n",
       "      <td>3</td>\n",
       "      <td>1</td>\n",
       "      <td>47</td>\n",
       "      <td>-1</td>\n",
       "      <td>-1</td>\n",
       "      <td>-1</td>\n",
       "      <td>-1</td>\n",
       "      <td>...</td>\n",
       "      <td>2040</td>\n",
       "      <td>30430</td>\n",
       "      <td>257</td>\n",
       "      <td>3415</td>\n",
       "      <td>3421</td>\n",
       "      <td>2044</td>\n",
       "      <td>30430</td>\n",
       "      <td>257</td>\n",
       "      <td>0</td>\n",
       "      <td>0</td>\n",
       "    </tr>\n",
       "    <tr>\n",
       "      <th>29</th>\n",
       "      <td>30</td>\n",
       "      <td>50000</td>\n",
       "      <td>1</td>\n",
       "      <td>1</td>\n",
       "      <td>2</td>\n",
       "      <td>26</td>\n",
       "      <td>0</td>\n",
       "      <td>0</td>\n",
       "      <td>0</td>\n",
       "      <td>0</td>\n",
       "      <td>...</td>\n",
       "      <td>17907</td>\n",
       "      <td>18375</td>\n",
       "      <td>11400</td>\n",
       "      <td>1500</td>\n",
       "      <td>1500</td>\n",
       "      <td>1000</td>\n",
       "      <td>1000</td>\n",
       "      <td>1600</td>\n",
       "      <td>0</td>\n",
       "      <td>0</td>\n",
       "    </tr>\n",
       "    <tr>\n",
       "      <th>...</th>\n",
       "      <td>...</td>\n",
       "      <td>...</td>\n",
       "      <td>...</td>\n",
       "      <td>...</td>\n",
       "      <td>...</td>\n",
       "      <td>...</td>\n",
       "      <td>...</td>\n",
       "      <td>...</td>\n",
       "      <td>...</td>\n",
       "      <td>...</td>\n",
       "      <td>...</td>\n",
       "      <td>...</td>\n",
       "      <td>...</td>\n",
       "      <td>...</td>\n",
       "      <td>...</td>\n",
       "      <td>...</td>\n",
       "      <td>...</td>\n",
       "      <td>...</td>\n",
       "      <td>...</td>\n",
       "      <td>...</td>\n",
       "      <td>...</td>\n",
       "    </tr>\n",
       "    <tr>\n",
       "      <th>70</th>\n",
       "      <td>71</td>\n",
       "      <td>80000</td>\n",
       "      <td>1</td>\n",
       "      <td>1</td>\n",
       "      <td>2</td>\n",
       "      <td>31</td>\n",
       "      <td>-1</td>\n",
       "      <td>-1</td>\n",
       "      <td>-1</td>\n",
       "      <td>-1</td>\n",
       "      <td>...</td>\n",
       "      <td>390</td>\n",
       "      <td>390</td>\n",
       "      <td>390</td>\n",
       "      <td>0</td>\n",
       "      <td>390</td>\n",
       "      <td>390</td>\n",
       "      <td>390</td>\n",
       "      <td>390</td>\n",
       "      <td>390</td>\n",
       "      <td>0</td>\n",
       "    </tr>\n",
       "    <tr>\n",
       "      <th>71</th>\n",
       "      <td>72</td>\n",
       "      <td>320000</td>\n",
       "      <td>1</td>\n",
       "      <td>2</td>\n",
       "      <td>2</td>\n",
       "      <td>29</td>\n",
       "      <td>2</td>\n",
       "      <td>2</td>\n",
       "      <td>2</td>\n",
       "      <td>2</td>\n",
       "      <td>...</td>\n",
       "      <td>58622</td>\n",
       "      <td>62307</td>\n",
       "      <td>63526</td>\n",
       "      <td>2500</td>\n",
       "      <td>2500</td>\n",
       "      <td>0</td>\n",
       "      <td>4800</td>\n",
       "      <td>2400</td>\n",
       "      <td>1600</td>\n",
       "      <td>1</td>\n",
       "    </tr>\n",
       "    <tr>\n",
       "      <th>72</th>\n",
       "      <td>73</td>\n",
       "      <td>200000</td>\n",
       "      <td>2</td>\n",
       "      <td>2</td>\n",
       "      <td>1</td>\n",
       "      <td>32</td>\n",
       "      <td>-1</td>\n",
       "      <td>-1</td>\n",
       "      <td>-1</td>\n",
       "      <td>-1</td>\n",
       "      <td>...</td>\n",
       "      <td>5247</td>\n",
       "      <td>3848</td>\n",
       "      <td>3151</td>\n",
       "      <td>5818</td>\n",
       "      <td>15</td>\n",
       "      <td>9102</td>\n",
       "      <td>17</td>\n",
       "      <td>3165</td>\n",
       "      <td>1395</td>\n",
       "      <td>0</td>\n",
       "    </tr>\n",
       "    <tr>\n",
       "      <th>73</th>\n",
       "      <td>74</td>\n",
       "      <td>290000</td>\n",
       "      <td>2</td>\n",
       "      <td>1</td>\n",
       "      <td>2</td>\n",
       "      <td>37</td>\n",
       "      <td>1</td>\n",
       "      <td>-2</td>\n",
       "      <td>-1</td>\n",
       "      <td>-1</td>\n",
       "      <td>...</td>\n",
       "      <td>0</td>\n",
       "      <td>2359</td>\n",
       "      <td>0</td>\n",
       "      <td>0</td>\n",
       "      <td>3155</td>\n",
       "      <td>0</td>\n",
       "      <td>2359</td>\n",
       "      <td>0</td>\n",
       "      <td>0</td>\n",
       "      <td>0</td>\n",
       "    </tr>\n",
       "    <tr>\n",
       "      <th>74</th>\n",
       "      <td>75</td>\n",
       "      <td>340000</td>\n",
       "      <td>1</td>\n",
       "      <td>1</td>\n",
       "      <td>2</td>\n",
       "      <td>32</td>\n",
       "      <td>-1</td>\n",
       "      <td>-1</td>\n",
       "      <td>-1</td>\n",
       "      <td>-1</td>\n",
       "      <td>...</td>\n",
       "      <td>4291</td>\n",
       "      <td>80153</td>\n",
       "      <td>25820</td>\n",
       "      <td>5713</td>\n",
       "      <td>23453</td>\n",
       "      <td>4314</td>\n",
       "      <td>80552</td>\n",
       "      <td>25949</td>\n",
       "      <td>2016</td>\n",
       "      <td>0</td>\n",
       "    </tr>\n",
       "    <tr>\n",
       "      <th>75</th>\n",
       "      <td>76</td>\n",
       "      <td>20000</td>\n",
       "      <td>1</td>\n",
       "      <td>2</td>\n",
       "      <td>2</td>\n",
       "      <td>24</td>\n",
       "      <td>0</td>\n",
       "      <td>0</td>\n",
       "      <td>2</td>\n",
       "      <td>0</td>\n",
       "      <td>...</td>\n",
       "      <td>16976</td>\n",
       "      <td>17332</td>\n",
       "      <td>18543</td>\n",
       "      <td>2850</td>\n",
       "      <td>0</td>\n",
       "      <td>610</td>\n",
       "      <td>630</td>\n",
       "      <td>1500</td>\n",
       "      <td>0</td>\n",
       "      <td>0</td>\n",
       "    </tr>\n",
       "    <tr>\n",
       "      <th>76</th>\n",
       "      <td>77</td>\n",
       "      <td>50000</td>\n",
       "      <td>1</td>\n",
       "      <td>3</td>\n",
       "      <td>2</td>\n",
       "      <td>25</td>\n",
       "      <td>-1</td>\n",
       "      <td>0</td>\n",
       "      <td>0</td>\n",
       "      <td>0</td>\n",
       "      <td>...</td>\n",
       "      <td>9636</td>\n",
       "      <td>9590</td>\n",
       "      <td>10030</td>\n",
       "      <td>1759</td>\n",
       "      <td>1779</td>\n",
       "      <td>320</td>\n",
       "      <td>500</td>\n",
       "      <td>1000</td>\n",
       "      <td>1000</td>\n",
       "      <td>0</td>\n",
       "    </tr>\n",
       "    <tr>\n",
       "      <th>77</th>\n",
       "      <td>78</td>\n",
       "      <td>300000</td>\n",
       "      <td>2</td>\n",
       "      <td>1</td>\n",
       "      <td>1</td>\n",
       "      <td>45</td>\n",
       "      <td>-1</td>\n",
       "      <td>-1</td>\n",
       "      <td>-1</td>\n",
       "      <td>-1</td>\n",
       "      <td>...</td>\n",
       "      <td>291</td>\n",
       "      <td>291</td>\n",
       "      <td>291</td>\n",
       "      <td>291</td>\n",
       "      <td>291</td>\n",
       "      <td>291</td>\n",
       "      <td>291</td>\n",
       "      <td>291</td>\n",
       "      <td>291</td>\n",
       "      <td>0</td>\n",
       "    </tr>\n",
       "    <tr>\n",
       "      <th>78</th>\n",
       "      <td>79</td>\n",
       "      <td>30000</td>\n",
       "      <td>2</td>\n",
       "      <td>2</td>\n",
       "      <td>2</td>\n",
       "      <td>22</td>\n",
       "      <td>0</td>\n",
       "      <td>0</td>\n",
       "      <td>0</td>\n",
       "      <td>0</td>\n",
       "      <td>...</td>\n",
       "      <td>28004</td>\n",
       "      <td>26446</td>\n",
       "      <td>6411</td>\n",
       "      <td>1686</td>\n",
       "      <td>1400</td>\n",
       "      <td>560</td>\n",
       "      <td>3000</td>\n",
       "      <td>1765</td>\n",
       "      <td>0</td>\n",
       "      <td>1</td>\n",
       "    </tr>\n",
       "    <tr>\n",
       "      <th>79</th>\n",
       "      <td>80</td>\n",
       "      <td>240000</td>\n",
       "      <td>2</td>\n",
       "      <td>2</td>\n",
       "      <td>2</td>\n",
       "      <td>44</td>\n",
       "      <td>1</td>\n",
       "      <td>-2</td>\n",
       "      <td>-2</td>\n",
       "      <td>-2</td>\n",
       "      <td>...</td>\n",
       "      <td>0</td>\n",
       "      <td>0</td>\n",
       "      <td>0</td>\n",
       "      <td>0</td>\n",
       "      <td>0</td>\n",
       "      <td>0</td>\n",
       "      <td>0</td>\n",
       "      <td>0</td>\n",
       "      <td>0</td>\n",
       "      <td>1</td>\n",
       "    </tr>\n",
       "    <tr>\n",
       "      <th>80</th>\n",
       "      <td>81</td>\n",
       "      <td>470000</td>\n",
       "      <td>2</td>\n",
       "      <td>3</td>\n",
       "      <td>3</td>\n",
       "      <td>33</td>\n",
       "      <td>0</td>\n",
       "      <td>0</td>\n",
       "      <td>0</td>\n",
       "      <td>0</td>\n",
       "      <td>...</td>\n",
       "      <td>69923</td>\n",
       "      <td>29271</td>\n",
       "      <td>29889</td>\n",
       "      <td>6400</td>\n",
       "      <td>7566</td>\n",
       "      <td>3000</td>\n",
       "      <td>960</td>\n",
       "      <td>1000</td>\n",
       "      <td>3000</td>\n",
       "      <td>0</td>\n",
       "    </tr>\n",
       "    <tr>\n",
       "      <th>81</th>\n",
       "      <td>82</td>\n",
       "      <td>360000</td>\n",
       "      <td>2</td>\n",
       "      <td>1</td>\n",
       "      <td>2</td>\n",
       "      <td>26</td>\n",
       "      <td>0</td>\n",
       "      <td>0</td>\n",
       "      <td>0</td>\n",
       "      <td>0</td>\n",
       "      <td>...</td>\n",
       "      <td>33100</td>\n",
       "      <td>180000</td>\n",
       "      <td>196</td>\n",
       "      <td>4796</td>\n",
       "      <td>3400</td>\n",
       "      <td>3100</td>\n",
       "      <td>146900</td>\n",
       "      <td>196</td>\n",
       "      <td>2963</td>\n",
       "      <td>0</td>\n",
       "    </tr>\n",
       "    <tr>\n",
       "      <th>82</th>\n",
       "      <td>83</td>\n",
       "      <td>60000</td>\n",
       "      <td>1</td>\n",
       "      <td>3</td>\n",
       "      <td>2</td>\n",
       "      <td>30</td>\n",
       "      <td>0</td>\n",
       "      <td>0</td>\n",
       "      <td>0</td>\n",
       "      <td>0</td>\n",
       "      <td>...</td>\n",
       "      <td>21993</td>\n",
       "      <td>19899</td>\n",
       "      <td>19771</td>\n",
       "      <td>1576</td>\n",
       "      <td>1213</td>\n",
       "      <td>648</td>\n",
       "      <td>768</td>\n",
       "      <td>1140</td>\n",
       "      <td>0</td>\n",
       "      <td>1</td>\n",
       "    </tr>\n",
       "    <tr>\n",
       "      <th>83</th>\n",
       "      <td>84</td>\n",
       "      <td>400000</td>\n",
       "      <td>2</td>\n",
       "      <td>2</td>\n",
       "      <td>1</td>\n",
       "      <td>44</td>\n",
       "      <td>0</td>\n",
       "      <td>0</td>\n",
       "      <td>2</td>\n",
       "      <td>0</td>\n",
       "      <td>...</td>\n",
       "      <td>104430</td>\n",
       "      <td>104990</td>\n",
       "      <td>94058</td>\n",
       "      <td>10700</td>\n",
       "      <td>3</td>\n",
       "      <td>3050</td>\n",
       "      <td>3000</td>\n",
       "      <td>3200</td>\n",
       "      <td>2800</td>\n",
       "      <td>0</td>\n",
       "    </tr>\n",
       "    <tr>\n",
       "      <th>84</th>\n",
       "      <td>85</td>\n",
       "      <td>50000</td>\n",
       "      <td>2</td>\n",
       "      <td>3</td>\n",
       "      <td>2</td>\n",
       "      <td>49</td>\n",
       "      <td>0</td>\n",
       "      <td>0</td>\n",
       "      <td>0</td>\n",
       "      <td>0</td>\n",
       "      <td>...</td>\n",
       "      <td>20414</td>\n",
       "      <td>19342</td>\n",
       "      <td>19482</td>\n",
       "      <td>1676</td>\n",
       "      <td>1302</td>\n",
       "      <td>700</td>\n",
       "      <td>699</td>\n",
       "      <td>849</td>\n",
       "      <td>826</td>\n",
       "      <td>0</td>\n",
       "    </tr>\n",
       "    <tr>\n",
       "      <th>85</th>\n",
       "      <td>86</td>\n",
       "      <td>160000</td>\n",
       "      <td>1</td>\n",
       "      <td>2</td>\n",
       "      <td>2</td>\n",
       "      <td>33</td>\n",
       "      <td>0</td>\n",
       "      <td>0</td>\n",
       "      <td>0</td>\n",
       "      <td>0</td>\n",
       "      <td>...</td>\n",
       "      <td>118418</td>\n",
       "      <td>118407</td>\n",
       "      <td>120418</td>\n",
       "      <td>4400</td>\n",
       "      <td>3547</td>\n",
       "      <td>80000</td>\n",
       "      <td>4500</td>\n",
       "      <td>4800</td>\n",
       "      <td>4500</td>\n",
       "      <td>0</td>\n",
       "    </tr>\n",
       "    <tr>\n",
       "      <th>86</th>\n",
       "      <td>87</td>\n",
       "      <td>360000</td>\n",
       "      <td>2</td>\n",
       "      <td>1</td>\n",
       "      <td>1</td>\n",
       "      <td>45</td>\n",
       "      <td>-1</td>\n",
       "      <td>-1</td>\n",
       "      <td>2</td>\n",
       "      <td>0</td>\n",
       "      <td>...</td>\n",
       "      <td>390</td>\n",
       "      <td>390</td>\n",
       "      <td>390</td>\n",
       "      <td>1170</td>\n",
       "      <td>0</td>\n",
       "      <td>0</td>\n",
       "      <td>390</td>\n",
       "      <td>390</td>\n",
       "      <td>390</td>\n",
       "      <td>1</td>\n",
       "    </tr>\n",
       "    <tr>\n",
       "      <th>87</th>\n",
       "      <td>88</td>\n",
       "      <td>160000</td>\n",
       "      <td>2</td>\n",
       "      <td>2</td>\n",
       "      <td>2</td>\n",
       "      <td>32</td>\n",
       "      <td>0</td>\n",
       "      <td>0</td>\n",
       "      <td>0</td>\n",
       "      <td>0</td>\n",
       "      <td>...</td>\n",
       "      <td>8604</td>\n",
       "      <td>7072</td>\n",
       "      <td>766</td>\n",
       "      <td>1147</td>\n",
       "      <td>2000</td>\n",
       "      <td>2000</td>\n",
       "      <td>0</td>\n",
       "      <td>766</td>\n",
       "      <td>2303</td>\n",
       "      <td>0</td>\n",
       "    </tr>\n",
       "    <tr>\n",
       "      <th>88</th>\n",
       "      <td>89</td>\n",
       "      <td>130000</td>\n",
       "      <td>2</td>\n",
       "      <td>1</td>\n",
       "      <td>1</td>\n",
       "      <td>35</td>\n",
       "      <td>0</td>\n",
       "      <td>0</td>\n",
       "      <td>0</td>\n",
       "      <td>-1</td>\n",
       "      <td>...</td>\n",
       "      <td>1330</td>\n",
       "      <td>7095</td>\n",
       "      <td>1190</td>\n",
       "      <td>40000</td>\n",
       "      <td>5000</td>\n",
       "      <td>1330</td>\n",
       "      <td>7095</td>\n",
       "      <td>1190</td>\n",
       "      <td>2090</td>\n",
       "      <td>0</td>\n",
       "    </tr>\n",
       "    <tr>\n",
       "      <th>89</th>\n",
       "      <td>90</td>\n",
       "      <td>20000</td>\n",
       "      <td>1</td>\n",
       "      <td>3</td>\n",
       "      <td>2</td>\n",
       "      <td>44</td>\n",
       "      <td>2</td>\n",
       "      <td>2</td>\n",
       "      <td>0</td>\n",
       "      <td>0</td>\n",
       "      <td>...</td>\n",
       "      <td>10488</td>\n",
       "      <td>12314</td>\n",
       "      <td>11970</td>\n",
       "      <td>0</td>\n",
       "      <td>1651</td>\n",
       "      <td>1000</td>\n",
       "      <td>2000</td>\n",
       "      <td>0</td>\n",
       "      <td>1500</td>\n",
       "      <td>0</td>\n",
       "    </tr>\n",
       "    <tr>\n",
       "      <th>90</th>\n",
       "      <td>91</td>\n",
       "      <td>200000</td>\n",
       "      <td>1</td>\n",
       "      <td>1</td>\n",
       "      <td>1</td>\n",
       "      <td>53</td>\n",
       "      <td>2</td>\n",
       "      <td>2</td>\n",
       "      <td>2</td>\n",
       "      <td>2</td>\n",
       "      <td>...</td>\n",
       "      <td>144098</td>\n",
       "      <td>147124</td>\n",
       "      <td>149531</td>\n",
       "      <td>6300</td>\n",
       "      <td>5500</td>\n",
       "      <td>5500</td>\n",
       "      <td>5500</td>\n",
       "      <td>5000</td>\n",
       "      <td>5000</td>\n",
       "      <td>1</td>\n",
       "    </tr>\n",
       "    <tr>\n",
       "      <th>91</th>\n",
       "      <td>92</td>\n",
       "      <td>280000</td>\n",
       "      <td>2</td>\n",
       "      <td>1</td>\n",
       "      <td>2</td>\n",
       "      <td>39</td>\n",
       "      <td>-1</td>\n",
       "      <td>-1</td>\n",
       "      <td>-1</td>\n",
       "      <td>0</td>\n",
       "      <td>...</td>\n",
       "      <td>3868</td>\n",
       "      <td>0</td>\n",
       "      <td>0</td>\n",
       "      <td>0</td>\n",
       "      <td>3968</td>\n",
       "      <td>0</td>\n",
       "      <td>0</td>\n",
       "      <td>0</td>\n",
       "      <td>0</td>\n",
       "      <td>0</td>\n",
       "    </tr>\n",
       "    <tr>\n",
       "      <th>92</th>\n",
       "      <td>93</td>\n",
       "      <td>100000</td>\n",
       "      <td>2</td>\n",
       "      <td>1</td>\n",
       "      <td>2</td>\n",
       "      <td>27</td>\n",
       "      <td>-2</td>\n",
       "      <td>-2</td>\n",
       "      <td>-2</td>\n",
       "      <td>-2</td>\n",
       "      <td>...</td>\n",
       "      <td>0</td>\n",
       "      <td>0</td>\n",
       "      <td>0</td>\n",
       "      <td>7555</td>\n",
       "      <td>0</td>\n",
       "      <td>0</td>\n",
       "      <td>0</td>\n",
       "      <td>0</td>\n",
       "      <td>0</td>\n",
       "      <td>0</td>\n",
       "    </tr>\n",
       "    <tr>\n",
       "      <th>93</th>\n",
       "      <td>94</td>\n",
       "      <td>160000</td>\n",
       "      <td>2</td>\n",
       "      <td>2</td>\n",
       "      <td>1</td>\n",
       "      <td>37</td>\n",
       "      <td>-1</td>\n",
       "      <td>-1</td>\n",
       "      <td>-1</td>\n",
       "      <td>-1</td>\n",
       "      <td>...</td>\n",
       "      <td>840</td>\n",
       "      <td>0</td>\n",
       "      <td>0</td>\n",
       "      <td>1602</td>\n",
       "      <td>840</td>\n",
       "      <td>840</td>\n",
       "      <td>0</td>\n",
       "      <td>0</td>\n",
       "      <td>7736</td>\n",
       "      <td>0</td>\n",
       "    </tr>\n",
       "    <tr>\n",
       "      <th>94</th>\n",
       "      <td>95</td>\n",
       "      <td>60000</td>\n",
       "      <td>2</td>\n",
       "      <td>2</td>\n",
       "      <td>2</td>\n",
       "      <td>23</td>\n",
       "      <td>0</td>\n",
       "      <td>0</td>\n",
       "      <td>0</td>\n",
       "      <td>0</td>\n",
       "      <td>...</td>\n",
       "      <td>19595</td>\n",
       "      <td>19209</td>\n",
       "      <td>19323</td>\n",
       "      <td>1937</td>\n",
       "      <td>1301</td>\n",
       "      <td>682</td>\n",
       "      <td>690</td>\n",
       "      <td>816</td>\n",
       "      <td>835</td>\n",
       "      <td>0</td>\n",
       "    </tr>\n",
       "    <tr>\n",
       "      <th>95</th>\n",
       "      <td>96</td>\n",
       "      <td>90000</td>\n",
       "      <td>1</td>\n",
       "      <td>2</td>\n",
       "      <td>2</td>\n",
       "      <td>35</td>\n",
       "      <td>0</td>\n",
       "      <td>0</td>\n",
       "      <td>0</td>\n",
       "      <td>0</td>\n",
       "      <td>...</td>\n",
       "      <td>35565</td>\n",
       "      <td>30942</td>\n",
       "      <td>30835</td>\n",
       "      <td>3621</td>\n",
       "      <td>3597</td>\n",
       "      <td>1179</td>\n",
       "      <td>1112</td>\n",
       "      <td>1104</td>\n",
       "      <td>1143</td>\n",
       "      <td>0</td>\n",
       "    </tr>\n",
       "    <tr>\n",
       "      <th>96</th>\n",
       "      <td>97</td>\n",
       "      <td>360000</td>\n",
       "      <td>1</td>\n",
       "      <td>1</td>\n",
       "      <td>1</td>\n",
       "      <td>43</td>\n",
       "      <td>-1</td>\n",
       "      <td>-1</td>\n",
       "      <td>-1</td>\n",
       "      <td>-1</td>\n",
       "      <td>...</td>\n",
       "      <td>6451</td>\n",
       "      <td>26370</td>\n",
       "      <td>9956</td>\n",
       "      <td>8339</td>\n",
       "      <td>3394</td>\n",
       "      <td>12902</td>\n",
       "      <td>27000</td>\n",
       "      <td>0</td>\n",
       "      <td>68978</td>\n",
       "      <td>0</td>\n",
       "    </tr>\n",
       "    <tr>\n",
       "      <th>97</th>\n",
       "      <td>98</td>\n",
       "      <td>150000</td>\n",
       "      <td>1</td>\n",
       "      <td>1</td>\n",
       "      <td>2</td>\n",
       "      <td>27</td>\n",
       "      <td>0</td>\n",
       "      <td>0</td>\n",
       "      <td>0</td>\n",
       "      <td>0</td>\n",
       "      <td>...</td>\n",
       "      <td>89775</td>\n",
       "      <td>87725</td>\n",
       "      <td>40788</td>\n",
       "      <td>4031</td>\n",
       "      <td>10006</td>\n",
       "      <td>3266</td>\n",
       "      <td>4040</td>\n",
       "      <td>1698</td>\n",
       "      <td>800</td>\n",
       "      <td>0</td>\n",
       "    </tr>\n",
       "    <tr>\n",
       "      <th>98</th>\n",
       "      <td>99</td>\n",
       "      <td>50000</td>\n",
       "      <td>2</td>\n",
       "      <td>3</td>\n",
       "      <td>1</td>\n",
       "      <td>22</td>\n",
       "      <td>0</td>\n",
       "      <td>0</td>\n",
       "      <td>0</td>\n",
       "      <td>0</td>\n",
       "      <td>...</td>\n",
       "      <td>13150</td>\n",
       "      <td>8866</td>\n",
       "      <td>7899</td>\n",
       "      <td>1411</td>\n",
       "      <td>1194</td>\n",
       "      <td>379</td>\n",
       "      <td>281</td>\n",
       "      <td>321</td>\n",
       "      <td>197</td>\n",
       "      <td>0</td>\n",
       "    </tr>\n",
       "    <tr>\n",
       "      <th>99</th>\n",
       "      <td>100</td>\n",
       "      <td>20000</td>\n",
       "      <td>1</td>\n",
       "      <td>2</td>\n",
       "      <td>1</td>\n",
       "      <td>38</td>\n",
       "      <td>0</td>\n",
       "      <td>0</td>\n",
       "      <td>0</td>\n",
       "      <td>0</td>\n",
       "      <td>...</td>\n",
       "      <td>18240</td>\n",
       "      <td>17928</td>\n",
       "      <td>150</td>\n",
       "      <td>1699</td>\n",
       "      <td>1460</td>\n",
       "      <td>626</td>\n",
       "      <td>1750</td>\n",
       "      <td>150</td>\n",
       "      <td>0</td>\n",
       "      <td>1</td>\n",
       "    </tr>\n",
       "  </tbody>\n",
       "</table>\n",
       "<p>100 rows × 25 columns</p>\n",
       "</div>"
      ],
      "text/plain": [
       "     ID  LIMIT_BAL  SEX  EDUCATION  MARRIAGE  AGE  PAY_0  PAY_2  PAY_3  PAY_4  \\\n",
       "0     1      20000    2          2         1   24      2      2     -1     -1   \n",
       "1     2     120000    2          2         2   26     -1      2      0      0   \n",
       "2     3      90000    2          2         2   34      0      0      0      0   \n",
       "3     4      50000    2          2         1   37      0      0      0      0   \n",
       "4     5      50000    1          2         1   57     -1      0     -1      0   \n",
       "5     6      50000    1          1         2   37      0      0      0      0   \n",
       "6     7     500000    1          1         2   29      0      0      0      0   \n",
       "7     8     100000    2          2         2   23      0     -1     -1      0   \n",
       "8     9     140000    2          3         1   28      0      0      2      0   \n",
       "9    10      20000    1          3         2   35     -2     -2     -2     -2   \n",
       "10   11     200000    2          3         2   34      0      0      2      0   \n",
       "11   12     260000    2          1         2   51     -1     -1     -1     -1   \n",
       "12   13     630000    2          2         2   41     -1      0     -1     -1   \n",
       "13   14      70000    1          2         2   30      1      2      2      0   \n",
       "14   15     250000    1          1         2   29      0      0      0      0   \n",
       "15   16      50000    2          3         3   23      1      2      0      0   \n",
       "16   17      20000    1          1         2   24      0      0      2      2   \n",
       "17   18     320000    1          1         1   49      0      0      0     -1   \n",
       "18   19     360000    2          1         1   49      1     -2     -2     -2   \n",
       "19   20     180000    2          1         2   29      1     -2     -2     -2   \n",
       "20   21     130000    2          3         2   39      0      0      0      0   \n",
       "21   22     120000    2          2         1   39     -1     -1     -1     -1   \n",
       "22   23      70000    2          2         2   26      2      0      0      2   \n",
       "23   24     450000    2          1         1   40     -2     -2     -2     -2   \n",
       "24   25      90000    1          1         2   23      0      0      0     -1   \n",
       "25   26      50000    1          3         2   23      0      0      0      0   \n",
       "26   27      60000    1          1         2   27      1     -2     -1     -1   \n",
       "27   28      50000    2          3         2   30      0      0      0      0   \n",
       "28   29      50000    2          3         1   47     -1     -1     -1     -1   \n",
       "29   30      50000    1          1         2   26      0      0      0      0   \n",
       "..  ...        ...  ...        ...       ...  ...    ...    ...    ...    ...   \n",
       "70   71      80000    1          1         2   31     -1     -1     -1     -1   \n",
       "71   72     320000    1          2         2   29      2      2      2      2   \n",
       "72   73     200000    2          2         1   32     -1     -1     -1     -1   \n",
       "73   74     290000    2          1         2   37      1     -2     -1     -1   \n",
       "74   75     340000    1          1         2   32     -1     -1     -1     -1   \n",
       "75   76      20000    1          2         2   24      0      0      2      0   \n",
       "76   77      50000    1          3         2   25     -1      0      0      0   \n",
       "77   78     300000    2          1         1   45     -1     -1     -1     -1   \n",
       "78   79      30000    2          2         2   22      0      0      0      0   \n",
       "79   80     240000    2          2         2   44      1     -2     -2     -2   \n",
       "80   81     470000    2          3         3   33      0      0      0      0   \n",
       "81   82     360000    2          1         2   26      0      0      0      0   \n",
       "82   83      60000    1          3         2   30      0      0      0      0   \n",
       "83   84     400000    2          2         1   44      0      0      2      0   \n",
       "84   85      50000    2          3         2   49      0      0      0      0   \n",
       "85   86     160000    1          2         2   33      0      0      0      0   \n",
       "86   87     360000    2          1         1   45     -1     -1      2      0   \n",
       "87   88     160000    2          2         2   32      0      0      0      0   \n",
       "88   89     130000    2          1         1   35      0      0      0     -1   \n",
       "89   90      20000    1          3         2   44      2      2      0      0   \n",
       "90   91     200000    1          1         1   53      2      2      2      2   \n",
       "91   92     280000    2          1         2   39     -1     -1     -1      0   \n",
       "92   93     100000    2          1         2   27     -2     -2     -2     -2   \n",
       "93   94     160000    2          2         1   37     -1     -1     -1     -1   \n",
       "94   95      60000    2          2         2   23      0      0      0      0   \n",
       "95   96      90000    1          2         2   35      0      0      0      0   \n",
       "96   97     360000    1          1         1   43     -1     -1     -1     -1   \n",
       "97   98     150000    1          1         2   27      0      0      0      0   \n",
       "98   99      50000    2          3         1   22      0      0      0      0   \n",
       "99  100      20000    1          2         1   38      0      0      0      0   \n",
       "\n",
       "    ...  BILL_AMT4  BILL_AMT5  BILL_AMT6  PAY_AMT1  PAY_AMT2  PAY_AMT3  \\\n",
       "0   ...          0          0          0         0       689         0   \n",
       "1   ...       3272       3455       3261         0      1000      1000   \n",
       "2   ...      14331      14948      15549      1518      1500      1000   \n",
       "3   ...      28314      28959      29547      2000      2019      1200   \n",
       "4   ...      20940      19146      19131      2000     36681     10000   \n",
       "5   ...      19394      19619      20024      2500      1815       657   \n",
       "6   ...     542653     483003     473944     55000     40000     38000   \n",
       "7   ...        221       -159        567       380       601         0   \n",
       "8   ...      12211      11793       3719      3329         0       432   \n",
       "9   ...          0      13007      13912         0         0         0   \n",
       "10  ...       2513       1828       3731      2306        12        50   \n",
       "11  ...       8517      22287      13668     21818      9966      8583   \n",
       "12  ...       6500       6500       2870      1000      6500      6500   \n",
       "13  ...      66782      36137      36894      3200         0      3000   \n",
       "14  ...      59696      56875      55512      3000      3000      3000   \n",
       "15  ...      28771      29531      30211         0      1500      1100   \n",
       "16  ...      18338      17905      19104      3200         0      1500   \n",
       "17  ...      70074       5856     195599     10358     10000     75940   \n",
       "18  ...          0          0          0         0         0         0   \n",
       "19  ...          0          0          0         0         0         0   \n",
       "20  ...      20616      11802        930      3000      1537      1000   \n",
       "21  ...          0        632        316       316       316         0   \n",
       "22  ...      44006      46905      46012      2007      3582         0   \n",
       "23  ...        560          0          0     19428      1473       560   \n",
       "24  ...       5398       6360       8292      5757         0      5398   \n",
       "25  ...      28967      29829      30046      1973      1426      1001   \n",
       "26  ...        -57        127       -189         0      1000         0   \n",
       "27  ...      17878      18931      19617      1300      1300      1000   \n",
       "28  ...       2040      30430        257      3415      3421      2044   \n",
       "29  ...      17907      18375      11400      1500      1500      1000   \n",
       "..  ...        ...        ...        ...       ...       ...       ...   \n",
       "70  ...        390        390        390         0       390       390   \n",
       "71  ...      58622      62307      63526      2500      2500         0   \n",
       "72  ...       5247       3848       3151      5818        15      9102   \n",
       "73  ...          0       2359          0         0      3155         0   \n",
       "74  ...       4291      80153      25820      5713     23453      4314   \n",
       "75  ...      16976      17332      18543      2850         0       610   \n",
       "76  ...       9636       9590      10030      1759      1779       320   \n",
       "77  ...        291        291        291       291       291       291   \n",
       "78  ...      28004      26446       6411      1686      1400       560   \n",
       "79  ...          0          0          0         0         0         0   \n",
       "80  ...      69923      29271      29889      6400      7566      3000   \n",
       "81  ...      33100     180000        196      4796      3400      3100   \n",
       "82  ...      21993      19899      19771      1576      1213       648   \n",
       "83  ...     104430     104990      94058     10700         3      3050   \n",
       "84  ...      20414      19342      19482      1676      1302       700   \n",
       "85  ...     118418     118407     120418      4400      3547     80000   \n",
       "86  ...        390        390        390      1170         0         0   \n",
       "87  ...       8604       7072        766      1147      2000      2000   \n",
       "88  ...       1330       7095       1190     40000      5000      1330   \n",
       "89  ...      10488      12314      11970         0      1651      1000   \n",
       "90  ...     144098     147124     149531      6300      5500      5500   \n",
       "91  ...       3868          0          0         0      3968         0   \n",
       "92  ...          0          0          0      7555         0         0   \n",
       "93  ...        840          0          0      1602       840       840   \n",
       "94  ...      19595      19209      19323      1937      1301       682   \n",
       "95  ...      35565      30942      30835      3621      3597      1179   \n",
       "96  ...       6451      26370       9956      8339      3394     12902   \n",
       "97  ...      89775      87725      40788      4031     10006      3266   \n",
       "98  ...      13150       8866       7899      1411      1194       379   \n",
       "99  ...      18240      17928        150      1699      1460       626   \n",
       "\n",
       "    PAY_AMT4  PAY_AMT5  PAY_AMT6  default payment next month  \n",
       "0          0         0         0                           1  \n",
       "1       1000         0      2000                           1  \n",
       "2       1000      1000      5000                           0  \n",
       "3       1100      1069      1000                           0  \n",
       "4       9000       689       679                           0  \n",
       "5       1000      1000       800                           0  \n",
       "6      20239     13750     13770                           0  \n",
       "7        581      1687      1542                           0  \n",
       "8       1000      1000      1000                           0  \n",
       "9      13007      1122         0                           0  \n",
       "10       300      3738        66                           0  \n",
       "11     22301         0      3640                           0  \n",
       "12      6500      2870         0                           0  \n",
       "13      3000      1500         0                           1  \n",
       "14      3000      3000      3000                           0  \n",
       "15      1200      1300      1100                           0  \n",
       "16         0      1650         0                           1  \n",
       "17     20000    195599     50000                           0  \n",
       "18         0         0         0                           0  \n",
       "19         0         0         0                           0  \n",
       "20      2000       930     33764                           0  \n",
       "21       632       316         0                           1  \n",
       "22      3601         0      1820                           1  \n",
       "23         0         0      1128                           1  \n",
       "24      1200      2045      2000                           0  \n",
       "25      1432      1062       997                           0  \n",
       "26       500         0      1000                           1  \n",
       "27      1500      1000      1012                           0  \n",
       "28     30430       257         0                           0  \n",
       "29      1000      1600         0                           0  \n",
       "..       ...       ...       ...                         ...  \n",
       "70       390       390       390                           0  \n",
       "71      4800      2400      1600                           1  \n",
       "72        17      3165      1395                           0  \n",
       "73      2359         0         0                           0  \n",
       "74     80552     25949      2016                           0  \n",
       "75       630      1500         0                           0  \n",
       "76       500      1000      1000                           0  \n",
       "77       291       291       291                           0  \n",
       "78      3000      1765         0                           1  \n",
       "79         0         0         0                           1  \n",
       "80       960      1000      3000                           0  \n",
       "81    146900       196      2963                           0  \n",
       "82       768      1140         0                           1  \n",
       "83      3000      3200      2800                           0  \n",
       "84       699       849       826                           0  \n",
       "85      4500      4800      4500                           0  \n",
       "86       390       390       390                           1  \n",
       "87         0       766      2303                           0  \n",
       "88      7095      1190      2090                           0  \n",
       "89      2000         0      1500                           0  \n",
       "90      5500      5000      5000                           1  \n",
       "91         0         0         0                           0  \n",
       "92         0         0         0                           0  \n",
       "93         0         0      7736                           0  \n",
       "94       690       816       835                           0  \n",
       "95      1112      1104      1143                           0  \n",
       "96     27000         0     68978                           0  \n",
       "97      4040      1698       800                           0  \n",
       "98       281       321       197                           0  \n",
       "99      1750       150         0                           1  \n",
       "\n",
       "[100 rows x 25 columns]"
      ]
     },
     "execution_count": 5,
     "metadata": {},
     "output_type": "execute_result"
    }
   ],
   "source": [
    "#Check the data to see the structure matches with CSV\n",
    "client.head(100)"
   ]
  },
  {
   "cell_type": "code",
   "execution_count": 6,
   "metadata": {},
   "outputs": [
    {
     "data": {
      "text/plain": [
       "int64    25\n",
       "dtype: int64"
      ]
     },
     "execution_count": 6,
     "metadata": {},
     "output_type": "execute_result"
    }
   ],
   "source": [
    "# check count of data types in data\n",
    "client.get_dtype_counts()"
   ]
  },
  {
   "cell_type": "code",
   "execution_count": 7,
   "metadata": {},
   "outputs": [
    {
     "data": {
      "text/plain": [
       "0    23364\n",
       "1     6636\n",
       "Name: default payment next month, dtype: int64"
      ]
     },
     "execution_count": 7,
     "metadata": {},
     "output_type": "execute_result"
    }
   ],
   "source": [
    "client['default payment next month'] .value_counts()"
   ]
  },
  {
   "cell_type": "code",
   "execution_count": 8,
   "metadata": {},
   "outputs": [
    {
     "name": "stdout",
     "output_type": "stream",
     "text": [
      "<class 'pandas.core.frame.DataFrame'>\n",
      "RangeIndex: 30000 entries, 0 to 29999\n",
      "Data columns (total 25 columns):\n",
      "ID                            30000 non-null int64\n",
      "LIMIT_BAL                     30000 non-null int64\n",
      "SEX                           30000 non-null int64\n",
      "EDUCATION                     30000 non-null int64\n",
      "MARRIAGE                      30000 non-null int64\n",
      "AGE                           30000 non-null int64\n",
      "PAY_0                         30000 non-null int64\n",
      "PAY_2                         30000 non-null int64\n",
      "PAY_3                         30000 non-null int64\n",
      "PAY_4                         30000 non-null int64\n",
      "PAY_5                         30000 non-null int64\n",
      "PAY_6                         30000 non-null int64\n",
      "BILL_AMT1                     30000 non-null int64\n",
      "BILL_AMT2                     30000 non-null int64\n",
      "BILL_AMT3                     30000 non-null int64\n",
      "BILL_AMT4                     30000 non-null int64\n",
      "BILL_AMT5                     30000 non-null int64\n",
      "BILL_AMT6                     30000 non-null int64\n",
      "PAY_AMT1                      30000 non-null int64\n",
      "PAY_AMT2                      30000 non-null int64\n",
      "PAY_AMT3                      30000 non-null int64\n",
      "PAY_AMT4                      30000 non-null int64\n",
      "PAY_AMT5                      30000 non-null int64\n",
      "PAY_AMT6                      30000 non-null int64\n",
      "default payment next month    30000 non-null int64\n",
      "dtypes: int64(25)\n",
      "memory usage: 5.7 MB\n"
     ]
    }
   ],
   "source": [
    "#Exploring data in client dataset and checking for missing values\n",
    "client.info()"
   ]
  },
  {
   "cell_type": "code",
   "execution_count": 9,
   "metadata": {
    "collapsed": true
   },
   "outputs": [],
   "source": [
    "# checking for duplicates and removing if any\n",
    "client = client.drop_duplicates(keep='first')"
   ]
  },
  {
   "cell_type": "code",
   "execution_count": 10,
   "metadata": {},
   "outputs": [
    {
     "data": {
      "text/plain": [
       "(30000, 25)"
      ]
     },
     "execution_count": 10,
     "metadata": {},
     "output_type": "execute_result"
    }
   ],
   "source": [
    "#see how many duplicates are removed\n",
    "client.shape"
   ]
  },
  {
   "cell_type": "code",
   "execution_count": 11,
   "metadata": {
    "collapsed": true
   },
   "outputs": [],
   "source": [
    "###data cleaning-clearing white spaces\n",
    "\n",
    "# A function to clear whitespaces--Logic credited to the below URL\n",
    "\n",
    "#https://stackoverflow.com/questions/33788913/\n",
    "#pythonic-efficient-way-to-strip-whitespace-from-every-pandas-data-frame-cell-tha\n",
    "\n",
    "\n",
    "def remove_whitespace(x):\n",
    "    try:\n",
    "        # remove spaces inside and outside of string\n",
    "        x = \"\".join(x.split())\n",
    "\n",
    "    except:\n",
    "        pass\n",
    "    return x\n",
    "\n",
    "client =client.applymap(remove_whitespace)###data cleaning-clearing white spaces\n",
    "\n",
    "# A function to clear whitespaces--Logic credited to the below URL\n",
    "\n",
    "#https://stackoverflow.com/questions/33788913/\n",
    "#pythonic-efficient-way-to-strip-whitespace-from-every-pandas-data-frame-cell-tha\n",
    "\n",
    "\n",
    "def remove_whitespace(x):\n",
    "    try:\n",
    "        # remove spaces inside and outside of string\n",
    "        x = \"\".join(x.split())\n",
    "\n",
    "    except:\n",
    "        pass\n",
    "    return x\n",
    "\n",
    "client_trim =client.applymap(remove_whitespace)"
   ]
  },
  {
   "cell_type": "code",
   "execution_count": 12,
   "metadata": {},
   "outputs": [
    {
     "data": {
      "text/plain": [
       "2    18112\n",
       "1    11888\n",
       "Name: SEX, dtype: int64"
      ]
     },
     "execution_count": 12,
     "metadata": {},
     "output_type": "execute_result"
    }
   ],
   "source": [
    "#Verify counts of the SEX column \n",
    "client['SEX'].value_counts()"
   ]
  },
  {
   "cell_type": "code",
   "execution_count": 13,
   "metadata": {},
   "outputs": [
    {
     "data": {
      "text/plain": [
       "2    15964\n",
       "1    13659\n",
       "3      323\n",
       "0       54\n",
       "Name: MARRIAGE, dtype: int64"
      ]
     },
     "execution_count": 13,
     "metadata": {},
     "output_type": "execute_result"
    }
   ],
   "source": [
    "#Verify counts of the MARRIAGE column \n",
    "client[\"MARRIAGE\"].value_counts()"
   ]
  },
  {
   "cell_type": "code",
   "execution_count": 14,
   "metadata": {},
   "outputs": [
    {
     "data": {
      "text/plain": [
       "2    15964\n",
       "1    13659\n",
       "3      377\n",
       "Name: MARRIAGE, dtype: int64"
      ]
     },
     "execution_count": 14,
     "metadata": {},
     "output_type": "execute_result"
    }
   ],
   "source": [
    "client.loc[client.MARRIAGE == 0, 'MARRIAGE'] = 3\n",
    "\n",
    "client.MARRIAGE.value_counts()"
   ]
  },
  {
   "cell_type": "code",
   "execution_count": 15,
   "metadata": {},
   "outputs": [
    {
     "data": {
      "text/plain": [
       "2    14030\n",
       "1    10585\n",
       "3     4917\n",
       "5      280\n",
       "4      123\n",
       "6       51\n",
       "0       14\n",
       "Name: EDUCATION, dtype: int64"
      ]
     },
     "execution_count": 15,
     "metadata": {},
     "output_type": "execute_result"
    }
   ],
   "source": [
    "#Verify counts of the EDUCATION column  \n",
    "client['EDUCATION'].value_counts()"
   ]
  },
  {
   "cell_type": "code",
   "execution_count": 16,
   "metadata": {},
   "outputs": [
    {
     "data": {
      "text/plain": [
       "2    14030\n",
       "1    10585\n",
       "3     4917\n",
       "4      468\n",
       "Name: EDUCATION, dtype: int64"
      ]
     },
     "execution_count": 16,
     "metadata": {},
     "output_type": "execute_result"
    }
   ],
   "source": [
    "fil = (client.EDUCATION == 5) | (client.EDUCATION == 6) | (client.EDUCATION == 0)\n",
    "client.loc[fil, 'EDUCATION'] = 4\n",
    "client.EDUCATION.value_counts()"
   ]
  },
  {
   "cell_type": "code",
   "execution_count": 17,
   "metadata": {},
   "outputs": [
    {
     "data": {
      "text/plain": [
       "29    1605\n",
       "27    1477\n",
       "28    1409\n",
       "30    1395\n",
       "26    1256\n",
       "31    1217\n",
       "25    1186\n",
       "34    1162\n",
       "32    1158\n",
       "33    1146\n",
       "24    1127\n",
       "35    1113\n",
       "36    1108\n",
       "37    1041\n",
       "39     954\n",
       "38     944\n",
       "23     931\n",
       "40     870\n",
       "41     824\n",
       "42     794\n",
       "44     700\n",
       "43     670\n",
       "45     617\n",
       "46     570\n",
       "22     560\n",
       "47     501\n",
       "48     466\n",
       "49     452\n",
       "50     411\n",
       "51     340\n",
       "53     325\n",
       "52     304\n",
       "54     247\n",
       "55     209\n",
       "56     178\n",
       "58     122\n",
       "57     122\n",
       "59      83\n",
       "60      67\n",
       "21      67\n",
       "61      56\n",
       "62      44\n",
       "63      31\n",
       "64      31\n",
       "66      25\n",
       "65      24\n",
       "67      16\n",
       "69      15\n",
       "70      10\n",
       "68       5\n",
       "73       4\n",
       "71       3\n",
       "72       3\n",
       "75       3\n",
       "74       1\n",
       "79       1\n",
       "Name: AGE, dtype: int64"
      ]
     },
     "execution_count": 17,
     "metadata": {},
     "output_type": "execute_result"
    }
   ],
   "source": [
    "client['AGE'].value_counts()"
   ]
  },
  {
   "cell_type": "code",
   "execution_count": 18,
   "metadata": {},
   "outputs": [
    {
     "data": {
      "text/plain": [
       " 0    14737\n",
       "-1     5686\n",
       " 1     3688\n",
       "-2     2759\n",
       " 2     2667\n",
       " 3      322\n",
       " 4       76\n",
       " 5       26\n",
       " 8       19\n",
       " 6       11\n",
       " 7        9\n",
       "Name: PAY_0, dtype: int64"
      ]
     },
     "execution_count": 18,
     "metadata": {},
     "output_type": "execute_result"
    }
   ],
   "source": [
    "#counts for PAY_0 column, considering -2 as no credit card,0 as paid some credit\n",
    "client['PAY_0'].value_counts()"
   ]
  },
  {
   "cell_type": "code",
   "execution_count": 19,
   "metadata": {},
   "outputs": [
    {
     "data": {
      "text/plain": [
       " 0    15730\n",
       "-1     6050\n",
       " 2     3927\n",
       "-2     3782\n",
       " 3      326\n",
       " 4       99\n",
       " 1       28\n",
       " 5       25\n",
       " 7       20\n",
       " 6       12\n",
       " 8        1\n",
       "Name: PAY_2, dtype: int64"
      ]
     },
     "execution_count": 19,
     "metadata": {},
     "output_type": "execute_result"
    }
   ],
   "source": [
    "client['PAY_2'].value_counts()"
   ]
  },
  {
   "cell_type": "code",
   "execution_count": 20,
   "metadata": {},
   "outputs": [
    {
     "data": {
      "text/plain": [
       " 0    15764\n",
       "-1     5938\n",
       "-2     4085\n",
       " 2     3819\n",
       " 3      240\n",
       " 4       76\n",
       " 7       27\n",
       " 6       23\n",
       " 5       21\n",
       " 1        4\n",
       " 8        3\n",
       "Name: PAY_3, dtype: int64"
      ]
     },
     "execution_count": 20,
     "metadata": {},
     "output_type": "execute_result"
    }
   ],
   "source": [
    "client['PAY_3'].value_counts()"
   ]
  },
  {
   "cell_type": "code",
   "execution_count": 21,
   "metadata": {},
   "outputs": [
    {
     "data": {
      "text/plain": [
       " 0    16455\n",
       "-1     5687\n",
       "-2     4348\n",
       " 2     3159\n",
       " 3      180\n",
       " 4       69\n",
       " 7       58\n",
       " 5       35\n",
       " 6        5\n",
       " 8        2\n",
       " 1        2\n",
       "Name: PAY_4, dtype: int64"
      ]
     },
     "execution_count": 21,
     "metadata": {},
     "output_type": "execute_result"
    }
   ],
   "source": [
    "client['PAY_4'].value_counts()"
   ]
  },
  {
   "cell_type": "code",
   "execution_count": 22,
   "metadata": {},
   "outputs": [
    {
     "data": {
      "text/plain": [
       " 0    16947\n",
       "-1     5539\n",
       "-2     4546\n",
       " 2     2626\n",
       " 3      178\n",
       " 4       84\n",
       " 7       58\n",
       " 5       17\n",
       " 6        4\n",
       " 8        1\n",
       "Name: PAY_5, dtype: int64"
      ]
     },
     "execution_count": 22,
     "metadata": {},
     "output_type": "execute_result"
    }
   ],
   "source": [
    "client['PAY_5'].value_counts()"
   ]
  },
  {
   "cell_type": "code",
   "execution_count": 23,
   "metadata": {},
   "outputs": [
    {
     "data": {
      "text/plain": [
       " 0    16286\n",
       "-1     5740\n",
       "-2     4895\n",
       " 2     2766\n",
       " 3      184\n",
       " 4       49\n",
       " 7       46\n",
       " 6       19\n",
       " 5       13\n",
       " 8        2\n",
       "Name: PAY_6, dtype: int64"
      ]
     },
     "execution_count": 23,
     "metadata": {},
     "output_type": "execute_result"
    }
   ],
   "source": [
    "client['PAY_6'].value_counts()"
   ]
  },
  {
   "cell_type": "code",
   "execution_count": 24,
   "metadata": {
    "collapsed": true
   },
   "outputs": [],
   "source": [
    "#Data Exploration\n",
    "\n",
    "#import matplot library\n",
    "\n",
    "import matplotlib.pyplot as plt"
   ]
  },
  {
   "cell_type": "code",
   "execution_count": 25,
   "metadata": {
    "collapsed": true
   },
   "outputs": [],
   "source": [
    "\n",
    "def corr_2_cols(Col1, Col2):\n",
    "    res = client.groupby([Col1, Col2]).size().unstack()\n",
    "    \n",
    "    res['perc1'] = (res[res.columns[1]]/(res[res.columns[0]] + res[res.columns[1]]))\n",
    "    res['perc0'] = (res[res.columns[0]]/(res[res.columns[0]] + res[res.columns[1]]))\n",
    "    del res[res.columns[1]]\n",
    "    del res[res.columns[0]]\n",
    "    return res\n"
   ]
  },
  {
   "cell_type": "code",
   "execution_count": 26,
   "metadata": {},
   "outputs": [
    {
     "data": {
      "text/html": [
       "<div>\n",
       "<style scoped>\n",
       "    .dataframe tbody tr th:only-of-type {\n",
       "        vertical-align: middle;\n",
       "    }\n",
       "\n",
       "    .dataframe tbody tr th {\n",
       "        vertical-align: top;\n",
       "    }\n",
       "\n",
       "    .dataframe thead th {\n",
       "        text-align: right;\n",
       "    }\n",
       "</style>\n",
       "<table border=\"1\" class=\"dataframe\">\n",
       "  <thead>\n",
       "    <tr style=\"text-align: right;\">\n",
       "      <th>default payment next month</th>\n",
       "      <th>perc1</th>\n",
       "      <th>perc0</th>\n",
       "    </tr>\n",
       "    <tr>\n",
       "      <th>SEX</th>\n",
       "      <th></th>\n",
       "      <th></th>\n",
       "    </tr>\n",
       "  </thead>\n",
       "  <tbody>\n",
       "    <tr>\n",
       "      <th>1</th>\n",
       "      <td>0.241672</td>\n",
       "      <td>0.758328</td>\n",
       "    </tr>\n",
       "    <tr>\n",
       "      <th>2</th>\n",
       "      <td>0.207763</td>\n",
       "      <td>0.792237</td>\n",
       "    </tr>\n",
       "  </tbody>\n",
       "</table>\n",
       "</div>"
      ],
      "text/plain": [
       "default payment next month     perc1     perc0\n",
       "SEX                                           \n",
       "1                           0.241672  0.758328\n",
       "2                           0.207763  0.792237"
      ]
     },
     "execution_count": 26,
     "metadata": {},
     "output_type": "execute_result"
    },
    {
     "data": {
      "image/png": "[encoded data removed]",
      "text/plain": [
       "<Figure size 432x288 with 1 Axes>"
      ]
     },
     "metadata": {
      "needs_background": "light"
     },
     "output_type": "display_data"
    }
   ],
   "source": [
    "#Hypothesis 1:\n",
    "#H0:Males generally have a more tendency to be credible as opposed to Females\n",
    "\n",
    "#exploring sex column to check how many male and female are credible and non-credible\n",
    "\n",
    "\n",
    "corr_2_cols('SEX', 'default payment next month').plot.bar(stacked=True)\n",
    "corr_2_cols('SEX', 'default payment next month')\n",
    "\n",
    "##Inference\n",
    "\n",
    "#The hypothesis cannot be rejected as the proportion od defaulted males is SLIGHTLY more than Defaulted Females\n"
   ]
  },
  {
   "cell_type": "markdown",
   "metadata": {},
   "source": []
  },
  {
   "cell_type": "markdown",
   "metadata": {},
   "source": []
  },
  {
   "cell_type": "code",
   "execution_count": 27,
   "metadata": {},
   "outputs": [
    {
     "data": {
      "text/html": [
       "<div>\n",
       "<style scoped>\n",
       "    .dataframe tbody tr th:only-of-type {\n",
       "        vertical-align: middle;\n",
       "    }\n",
       "\n",
       "    .dataframe tbody tr th {\n",
       "        vertical-align: top;\n",
       "    }\n",
       "\n",
       "    .dataframe thead th {\n",
       "        text-align: right;\n",
       "    }\n",
       "</style>\n",
       "<table border=\"1\" class=\"dataframe\">\n",
       "  <thead>\n",
       "    <tr style=\"text-align: right;\">\n",
       "      <th>default payment next month</th>\n",
       "      <th>perc1</th>\n",
       "      <th>perc0</th>\n",
       "    </tr>\n",
       "    <tr>\n",
       "      <th>EDUCATION</th>\n",
       "      <th></th>\n",
       "      <th></th>\n",
       "    </tr>\n",
       "  </thead>\n",
       "  <tbody>\n",
       "    <tr>\n",
       "      <th>1</th>\n",
       "      <td>0.192348</td>\n",
       "      <td>0.807652</td>\n",
       "    </tr>\n",
       "    <tr>\n",
       "      <th>2</th>\n",
       "      <td>0.237349</td>\n",
       "      <td>0.762651</td>\n",
       "    </tr>\n",
       "    <tr>\n",
       "      <th>3</th>\n",
       "      <td>0.251576</td>\n",
       "      <td>0.748424</td>\n",
       "    </tr>\n",
       "    <tr>\n",
       "      <th>4</th>\n",
       "      <td>0.070513</td>\n",
       "      <td>0.929487</td>\n",
       "    </tr>\n",
       "  </tbody>\n",
       "</table>\n",
       "</div>"
      ],
      "text/plain": [
       "default payment next month     perc1     perc0\n",
       "EDUCATION                                     \n",
       "1                           0.192348  0.807652\n",
       "2                           0.237349  0.762651\n",
       "3                           0.251576  0.748424\n",
       "4                           0.070513  0.929487"
      ]
     },
     "execution_count": 27,
     "metadata": {},
     "output_type": "execute_result"
    },
    {
     "data": {
      "image/png": "[encoded data removed]",
      "text/plain": [
       "<Figure size 432x288 with 1 Axes>"
      ]
     },
     "metadata": {
      "needs_background": "light"
     },
     "output_type": "display_data"
    }
   ],
   "source": [
    "#Hypothesis 2:\n",
    "#H0:More educated individuals  generally have a lesser tendency to be credible as opposed to lesser educated individuals\n",
    "\n",
    "\n",
    "#exploring Education column to check how many educated are credible and non credible\n",
    "\n",
    "corr_2_cols('EDUCATION', 'default payment next month').plot.bar(stacked=True)\n",
    "corr_2_cols('EDUCATION', 'default payment next month')\n",
    "\n",
    "##Inference\n",
    "\n",
    "##Hypothesis seems to be correct.As education increases , % default also increases"
   ]
  },
  {
   "cell_type": "code",
   "execution_count": 28,
   "metadata": {},
   "outputs": [
    {
     "data": {
      "text/html": [
       "<div>\n",
       "<style scoped>\n",
       "    .dataframe tbody tr th:only-of-type {\n",
       "        vertical-align: middle;\n",
       "    }\n",
       "\n",
       "    .dataframe tbody tr th {\n",
       "        vertical-align: top;\n",
       "    }\n",
       "\n",
       "    .dataframe thead th {\n",
       "        text-align: right;\n",
       "    }\n",
       "</style>\n",
       "<table border=\"1\" class=\"dataframe\">\n",
       "  <thead>\n",
       "    <tr style=\"text-align: right;\">\n",
       "      <th>default payment next month</th>\n",
       "      <th>perc1</th>\n",
       "      <th>perc0</th>\n",
       "    </tr>\n",
       "    <tr>\n",
       "      <th>MARRIAGE</th>\n",
       "      <th></th>\n",
       "      <th></th>\n",
       "    </tr>\n",
       "  </thead>\n",
       "  <tbody>\n",
       "    <tr>\n",
       "      <th>1</th>\n",
       "      <td>0.234717</td>\n",
       "      <td>0.765283</td>\n",
       "    </tr>\n",
       "    <tr>\n",
       "      <th>2</th>\n",
       "      <td>0.209283</td>\n",
       "      <td>0.790717</td>\n",
       "    </tr>\n",
       "    <tr>\n",
       "      <th>3</th>\n",
       "      <td>0.236074</td>\n",
       "      <td>0.763926</td>\n",
       "    </tr>\n",
       "  </tbody>\n",
       "</table>\n",
       "</div>"
      ],
      "text/plain": [
       "default payment next month     perc1     perc0\n",
       "MARRIAGE                                      \n",
       "1                           0.234717  0.765283\n",
       "2                           0.209283  0.790717\n",
       "3                           0.236074  0.763926"
      ]
     },
     "execution_count": 28,
     "metadata": {},
     "output_type": "execute_result"
    },
    {
     "data": {
      "image/png": "[encoded data removed]",
      "text/plain": [
       "<Figure size 432x288 with 1 Axes>"
      ]
     },
     "metadata": {
      "needs_background": "light"
     },
     "output_type": "display_data"
    }
   ],
   "source": [
    "##barplot of marital status of customers stacked \n",
    "\n",
    "#Hypothesis 3:\n",
    "#H0:More MARRIED individuals  generally have a lesser tendency to be credible as opposed to NON MARRIED\n",
    "\n",
    "\n",
    "#exploring MARRIAGE column to check how many educated are credible and non credible\n",
    "\n",
    "#plot stacked barplot\n",
    "corr_2_cols('MARRIAGE', 'default payment next month').plot.bar(stacked=True)\n",
    "corr_2_cols('MARRIAGE', 'default payment next month')\n",
    "\n",
    "\n",
    "#Hypothesis is rejected\n"
   ]
  },
  {
   "cell_type": "code",
   "execution_count": 29,
   "metadata": {},
   "outputs": [
    {
     "data": {
      "image/png": "[encoded data removed]",
      "text/plain": [
       "<Figure size 432x288 with 1 Axes>"
      ]
     },
     "metadata": {
      "needs_background": "light"
     },
     "output_type": "display_data"
    }
   ],
   "source": [
    "#Hypothesis 4:\n",
    "#H0:Limit Balance generally have a more tendency to be higher for more educated individuals\n",
    "\n",
    "#comparing education and limit balance\n",
    "client.boxplot(column='LIMIT_BAL', by='EDUCATION', patch_artist=True)\n",
    "             \n",
    "plt.title(\"\")\n",
    "plt.suptitle(\"limit balance distribution by education\")\n",
    "plt.xlabel(\"Education\")\n",
    "plt.ylabel(\"Limit Balance\")\n",
    "plt.show()\n",
    "\n",
    "\n",
    "#Hypothesis seems to be correct"
   ]
  },
  {
   "cell_type": "code",
   "execution_count": 30,
   "metadata": {},
   "outputs": [
    {
     "data": {
      "image/png": "[encoded data removed]",
      "text/plain": [
       "<Figure size 1008x432 with 1 Axes>"
      ]
     },
     "metadata": {
      "needs_background": "light"
     },
     "output_type": "display_data"
    }
   ],
   "source": [
    "##Hypothesis:5\n",
    "#The chances of being default is higher for lower credit limits\n",
    "\n",
    "## density plot for amount of credit limit (LIMIT_BAL), grouped by default payment next month.\n",
    "import seaborn as sns\n",
    "\n",
    "class_0 = client.loc[client['default payment next month'] == 0][\"LIMIT_BAL\"]\n",
    "class_1 = client.loc[client['default payment next month'] == 1][\"LIMIT_BAL\"]\n",
    "plt.figure(figsize = (14,6))\n",
    "plt.title('Default amount of credit limit  - grouped by Payment Next Month (Density Plot)')\n",
    "sns.set_color_codes(\"pastel\")\n",
    "sns.distplot(class_1,kde=True,bins=200, color=\"red\")\n",
    "sns.distplot(class_0,kde=True,bins=200, color=\"green\")\n",
    "plt.show()\n",
    "\n",
    "##Hypothesis accepted !!!\n",
    "\n",
    "##Inferences\n",
    "\n",
    "#Most of defaults are for credit limits 0-100,000 (and density for this interval is larger for defaults than for non-defaults).\n",
    "\n"
   ]
  },
  {
   "cell_type": "code",
   "execution_count": 31,
   "metadata": {},
   "outputs": [
    {
     "data": {
      "image/png": "[encoded data removed]",
      "text/plain": [
       "<Figure size 864x432 with 2 Axes>"
      ]
     },
     "metadata": {
      "needs_background": "light"
     },
     "output_type": "display_data"
    }
   ],
   "source": [
    "#Hypothesis:6\n",
    "\n",
    "#exploring credit limit vs sex\n",
    "#Males who are default generally have more credit limit than Females who are default\n",
    "\n",
    "\n",
    "fig, (ax1, ax2) = plt.subplots(ncols=2, figsize=(12,6))\n",
    "s = sns.boxplot(ax = ax1, \n",
    "                x=\"SEX\", \n",
    "                y=\"LIMIT_BAL\", \n",
    "                hue=\"SEX\",data=client, \n",
    "                palette=\"PRGn\",\n",
    "                showfliers=True)\n",
    "s = sns.boxplot(ax = ax2, \n",
    "                x=\"SEX\", \n",
    "                y=\"LIMIT_BAL\", \n",
    "                hue=\"SEX\",data=client, \n",
    "                palette=\"PRGn\",\n",
    "                showfliers=False)\n",
    "\n",
    "plt.show();\n",
    "\n",
    "\n",
    "\n",
    "\n",
    "##Hypothesis Rejected\n",
    "##BOth Males and Females have similar credit limit if they are defaulted or not\n",
    "\n",
    "\n",
    "##credit limit distribution vs. sex. For the sex, 1 stands for male and 2 for female"
   ]
  },
  {
   "cell_type": "code",
   "execution_count": 32,
   "metadata": {},
   "outputs": [
    {
     "data": {
      "text/plain": [
       "<matplotlib.axes._subplots.AxesSubplot at 0xf26e668>"
      ]
     },
     "execution_count": 32,
     "metadata": {},
     "output_type": "execute_result"
    },
    {
     "data": {
      "image/png": "[encoded data removed]",
      "text/plain": [
       "<Figure size 720x720 with 2 Axes>"
      ]
     },
     "metadata": {
      "needs_background": "light"
     },
     "output_type": "display_data"
    }
   ],
   "source": [
    "import seaborn as sns\n",
    "\n",
    "corr = client.drop('ID',axis=1).corr()\n",
    "f, ax = plt.subplots(figsize=(10, 10))\n",
    "\n",
    "# Generate a custom diverging colormap\n",
    "cmap = sns.diverging_palette(220, 10, as_cmap=True)\n",
    "\n",
    "# Draw the heatmap with the mask and correct aspect ratio\n",
    "sns.heatmap(corr, cmap=cmap, vmin=0,vmax=1, center=0,\n",
    "            square=True, linewidths=.5)"
   ]
  },
  {
   "cell_type": "code",
   "execution_count": 33,
   "metadata": {},
   "outputs": [
    {
     "name": "stdout",
     "output_type": "stream",
     "text": [
      "default payment next month     perc1     perc0\n",
      "PAY_0                                         \n",
      "-2                          0.132294  0.867706\n",
      "-1                          0.167781  0.832219\n",
      " 0                          0.128113  0.871887\n",
      " 1                          0.339479  0.660521\n",
      " 2                          0.691414  0.308586\n",
      " 3                          0.757764  0.242236\n",
      " 4                          0.684211  0.315789\n",
      " 5                          0.500000  0.500000\n",
      " 6                          0.545455  0.454545\n",
      " 7                          0.777778  0.222222\n",
      " 8                          0.578947  0.421053\n",
      "default payment next month     perc1     perc0\n",
      "PAY_2                                         \n",
      "-2                          0.182708  0.817292\n",
      "-1                          0.159669  0.840331\n",
      " 0                          0.159123  0.840877\n",
      " 1                          0.178571  0.821429\n",
      " 2                          0.556150  0.443850\n",
      " 3                          0.616564  0.383436\n",
      " 4                          0.505051  0.494949\n",
      " 5                          0.600000  0.400000\n",
      " 6                          0.750000  0.250000\n",
      " 7                          0.600000  0.400000\n",
      " 8                               NaN       NaN\n",
      "default payment next month     perc1     perc0\n",
      "PAY_3                                         \n",
      "-2                          0.185312  0.814688\n",
      "-1                          0.155945  0.844055\n",
      " 0                          0.174512  0.825488\n",
      " 1                          0.250000  0.750000\n",
      " 2                          0.515580  0.484420\n",
      " 3                          0.575000  0.425000\n",
      " 4                          0.578947  0.421053\n",
      " 5                          0.571429  0.428571\n",
      " 6                          0.608696  0.391304\n",
      " 7                          0.814815  0.185185\n",
      " 8                          0.666667  0.333333\n",
      "default payment next month     perc1     perc0\n",
      "PAY_4                                         \n",
      "-2                          0.192502  0.807498\n",
      "-1                          0.158959  0.841041\n",
      " 0                          0.183288  0.816712\n",
      " 1                          0.500000  0.500000\n",
      " 2                          0.523267  0.476733\n",
      " 3                          0.611111  0.388889\n",
      " 4                          0.666667  0.333333\n",
      " 5                          0.514286  0.485714\n",
      " 6                          0.400000  0.600000\n",
      " 7                          0.827586  0.172414\n",
      " 8                          0.500000  0.500000\n",
      "default payment next month     perc1     perc0\n",
      "PAY_5                                         \n",
      "-2                          0.196876  0.803124\n",
      "-1                          0.161943  0.838057\n",
      " 0                          0.188529  0.811471\n",
      " 2                          0.541889  0.458111\n",
      " 3                          0.634831  0.365169\n",
      " 4                          0.607143  0.392857\n",
      " 5                          0.588235  0.411765\n",
      " 6                          0.750000  0.250000\n",
      " 7                          0.827586  0.172414\n",
      " 8                               NaN       NaN\n",
      "default payment next month     perc1     perc0\n",
      "PAY_6                                         \n",
      "-2                          0.200409  0.799591\n",
      "-1                          0.169861  0.830139\n",
      " 0                          0.188444  0.811556\n",
      " 2                          0.506508  0.493492\n",
      " 3                          0.641304  0.358696\n",
      " 4                          0.632653  0.367347\n",
      " 5                          0.538462  0.461538\n",
      " 6                          0.736842  0.263158\n",
      " 7                          0.826087  0.173913\n",
      " 8                               NaN       NaN\n"
     ]
    },
    {
     "data": {
      "image/png": "[encoded data removed]",
      "text/plain": [
       "<Figure size 432x288 with 1 Axes>"
      ]
     },
     "metadata": {
      "needs_background": "light"
     },
     "output_type": "display_data"
    },
    {
     "data": {
      "image/png": "[encoded data removed]",
      "text/plain": [
       "<Figure size 432x288 with 1 Axes>"
      ]
     },
     "metadata": {
      "needs_background": "light"
     },
     "output_type": "display_data"
    },
    {
     "data": {
      "image/png": "[encoded data removed]",
      "text/plain": [
       "<Figure size 432x288 with 1 Axes>"
      ]
     },
     "metadata": {
      "needs_background": "light"
     },
     "output_type": "display_data"
    },
    {
     "data": {
      "image/png": "[encoded data removed]",
      "text/plain": [
       "<Figure size 432x288 with 1 Axes>"
      ]
     },
     "metadata": {
      "needs_background": "light"
     },
     "output_type": "display_data"
    },
    {
     "data": {
      "image/png": "[encoded data removed]",
      "text/plain": [
       "<Figure size 432x288 with 1 Axes>"
      ]
     },
     "metadata": {
      "needs_background": "light"
     },
     "output_type": "display_data"
    },
    {
     "data": {
      "image/png": "[encoded data removed]",
      "text/plain": [
       "<Figure size 432x288 with 1 Axes>"
      ]
     },
     "metadata": {
      "needs_background": "light"
     },
     "output_type": "display_data"
    }
   ],
   "source": [
    "\n",
    "##Ho:As payment delay increases, the possibility of getting default also increases\n",
    "#which makes a customer credible\n",
    "\n",
    "def getColumnsNames(prefix):\n",
    "    return [prefix+str(x) for x in range(0,7)]\n",
    "getColumnsNames(\"PAY_\")\n",
    "pay_status_columns = getColumnsNames(\"PAY_\")\n",
    "\n",
    "\n",
    "for i in range(len(pay_status_columns)):\n",
    "    if(i!=1):\n",
    "       \n",
    "         corr_2_cols(pay_status_columns[i], 'default payment next month').plot.bar(stacked=True)\n",
    "         print corr_2_cols(pay_status_columns[i], 'default payment next month')\n",
    "        \n",
    "#All the months payment delays shows  similar trend\n",
    "#Hypothesis  not Rejected\n",
    "\n"
   ]
  },
  {
   "cell_type": "code",
   "execution_count": 34,
   "metadata": {
    "collapsed": true
   },
   "outputs": [],
   "source": [
    "#choosing target and features \n",
    "target = 'default payment next month'\n",
    "features_tmp = [  'LIMIT_BAL', 'SEX', 'EDUCATION', 'MARRIAGE', 'AGE', \n",
    "                'PAY_0', 'PAY_2', 'PAY_3', 'PAY_4', 'PAY_5', 'PAY_6', \n",
    "                'BILL_AMT1','BILL_AMT2', 'BILL_AMT3', 'BILL_AMT4', 'BILL_AMT5', 'BILL_AMT6',\n",
    "                'PAY_AMT1', 'PAY_AMT2', 'PAY_AMT3', 'PAY_AMT4', 'PAY_AMT5', 'PAY_AMT6']\n",
    "\n",
    "# variable for future use\n",
    "column =[  'LIMIT_BAL', 'SEX', 'EDUCATION', 'MARRIAGE', 'AGE', \n",
    "                 'PAY_2', 'PAY_3', 'PAY_4', 'PAY_5', 'PAY_6', \n",
    "                'BILL_AMT2', 'BILL_AMT3', 'BILL_AMT4', 'BILL_AMT5', 'BILL_AMT6',\n",
    "                 'PAY_AMT2', 'PAY_AMT3', 'PAY_AMT4', 'PAY_AMT5', 'PAY_AMT6']\n"
   ]
  },
  {
   "cell_type": "code",
   "execution_count": 35,
   "metadata": {
    "collapsed": true
   },
   "outputs": [],
   "source": [
    "## loading target and features\n",
    "target = 'default payment next month'\n",
    "features = features_tmp\n",
    "X=client[features].copy()\n",
    "y=client[target].copy()"
   ]
  },
  {
   "cell_type": "code",
   "execution_count": 36,
   "metadata": {
    "collapsed": true
   },
   "outputs": [],
   "source": [
    "def feat():\n",
    "    a=[]\n",
    "    for x in new_Ind:\n",
    "        a.append(column[x])\n",
    "    return a\n"
   ]
  },
  {
   "cell_type": "code",
   "execution_count": 37,
   "metadata": {},
   "outputs": [
    {
     "data": {
      "text/plain": [
       "(30000, 23)"
      ]
     },
     "execution_count": 37,
     "metadata": {},
     "output_type": "execute_result"
    }
   ],
   "source": [
    "X.shape\n"
   ]
  },
  {
   "cell_type": "code",
   "execution_count": 38,
   "metadata": {},
   "outputs": [
    {
     "data": {
      "text/plain": [
       "(30000L,)"
      ]
     },
     "execution_count": 38,
     "metadata": {},
     "output_type": "execute_result"
    }
   ],
   "source": [
    "y.shape\n"
   ]
  },
  {
   "cell_type": "code",
   "execution_count": 39,
   "metadata": {},
   "outputs": [
    {
     "data": {
      "text/plain": [
       "array([1, 1, 0, ..., 1, 1, 0], dtype=int64)"
      ]
     },
     "execution_count": 39,
     "metadata": {},
     "output_type": "execute_result"
    }
   ],
   "source": [
    "#decision tree train = 50, test = 50\n",
    "\n",
    "\n",
    "from sklearn.model_selection import train_test_split\n",
    "\n",
    "X_train, X_test, y_train, y_test = train_test_split(X,y,test_size=0.5,random_state=0)\n",
    "from sklearn.tree import DecisionTreeClassifier \n",
    "clf = DecisionTreeClassifier(class_weight='balanced', criterion='gini', max_depth=100,max_features=None, max_leaf_nodes=20,\n",
    "            min_impurity_decrease=0.0, min_impurity_split=None,\n",
    "            min_samples_leaf=10, min_samples_split=20,\n",
    "            min_weight_fraction_leaf=0.0, presort=False, random_state=None,\n",
    "            splitter='best')\n",
    "fit = clf.fit(X_train, y_train)\n",
    "\n",
    "y_pre = fit.predict(X_test)   \n",
    "y_pre"
   ]
  },
  {
   "cell_type": "code",
   "execution_count": 40,
   "metadata": {},
   "outputs": [
    {
     "name": "stdout",
     "output_type": "stream",
     "text": [
      "[[8841 2891]\n",
      " [1170 2098]]\n",
      "('Accuracy Score:', 0.7292666666666666)\n",
      "              precision    recall  f1-score   support\n",
      "\n",
      "           0       0.88      0.75      0.81     11732\n",
      "           1       0.42      0.64      0.51      3268\n",
      "\n",
      "   micro avg       0.73      0.73      0.73     15000\n",
      "   macro avg       0.65      0.70      0.66     15000\n",
      "weighted avg       0.78      0.73      0.75     15000\n",
      "\n",
      "[0.7292666666666666]\n"
     ]
    }
   ],
   "source": [
    "#confusion matrix for test = 50\n",
    "\n",
    "\n",
    "from sklearn.metrics import confusion_matrix\n",
    "cm = confusion_matrix(y_test, y_pre)\n",
    "print  cm\n",
    "\n",
    "\n",
    "\n",
    "#accuracy score for test = 50\n",
    "accuracy_dt_1=[]\n",
    "print(\"Accuracy Score:\",clf.score(X_test, y_test))\n",
    "accuracy_dt_1.append(clf.score(X_test, y_test))\n",
    "#classification report for test = 50\n",
    "from sklearn.metrics import classification_report\n",
    "print classification_report(y_test,y_pre)\n",
    "\n",
    "print accuracy_dt_1\n"
   ]
  },
  {
   "cell_type": "code",
   "execution_count": 41,
   "metadata": {},
   "outputs": [
    {
     "name": "stderr",
     "output_type": "stream",
     "text": [
      "C:\\Users\\srika\\Anaconda2\\lib\\site-packages\\ipykernel_launcher.py:9: FutureWarning: Method .as_matrix will be removed in a future version. Use .values instead.\n",
      "  if __name__ == '__main__':\n"
     ]
    },
    {
     "data": {
      "image/png": "[encoded data removed]",
      "text/plain": [
       "<Figure size 504x288 with 1 Axes>"
      ]
     },
     "metadata": {
      "needs_background": "light"
     },
     "output_type": "display_data"
    }
   ],
   "source": [
    "#feature importance for train = 50, test = 50\n",
    "import seaborn as sns\n",
    "\n",
    "tmp = pd.DataFrame({'Feature': features, 'Feature importance': clf.feature_importances_})\n",
    "tmp = tmp.sort_values(by='Feature importance',ascending=False)\n",
    "\n",
    "#sel = tmp[tmp[\"Feature importance\"] >0.01].Feature\n",
    "\n",
    "sel = tmp[tmp[\"Feature importance\"] >0.01].Feature.as_matrix().reshape(-1)\n",
    "\n",
    "plt.figure(figsize = (7,4))\n",
    "plt.title('Features importance',fontsize=14)\n",
    "s = sns.barplot(x='Feature',y='Feature importance',data=tmp)\n",
    "s.set_xticklabels(s.get_xticklabels(),rotation=90)\n",
    "plt.show()\n",
    "\n",
    "\n",
    "\n"
   ]
  },
  {
   "cell_type": "code",
   "execution_count": 42,
   "metadata": {
    "collapsed": true
   },
   "outputs": [],
   "source": [
    "target = 'default payment next month'\n",
    "features = sel\n",
    "X=client[features].copy()\n",
    "y=client[target].copy()"
   ]
  },
  {
   "cell_type": "code",
   "execution_count": 43,
   "metadata": {},
   "outputs": [
    {
     "data": {
      "text/plain": [
       "array([1, 1, 0, ..., 1, 1, 0], dtype=int64)"
      ]
     },
     "execution_count": 43,
     "metadata": {},
     "output_type": "execute_result"
    }
   ],
   "source": [
    "#decission tree train = 50, test = 50\n",
    "from sklearn.model_selection import train_test_split\n",
    "\n",
    "X_train, X_test, y_train, y_test = train_test_split(X,y,test_size=0.5,random_state=0)\n",
    "from sklearn.tree import DecisionTreeClassifier \n",
    "clf = DecisionTreeClassifier(class_weight='balanced', criterion='gini', max_depth=100,max_features=None, max_leaf_nodes=20,\n",
    "            min_impurity_decrease=0.0, min_impurity_split=None,\n",
    "            min_samples_leaf=10, min_samples_split=20,\n",
    "            min_weight_fraction_leaf=0.0, presort=False, random_state=None,\n",
    "            splitter='best')\n",
    "fit = clf.fit(X_train, y_train)\n",
    "\n",
    "y_pre = fit.predict(X_test)   \n",
    "y_pre"
   ]
  },
  {
   "cell_type": "code",
   "execution_count": 44,
   "metadata": {},
   "outputs": [
    {
     "name": "stdout",
     "output_type": "stream",
     "text": [
      "[[8734 2998]\n",
      " [1132 2136]]\n"
     ]
    }
   ],
   "source": [
    "#confusion matrix for test = 50\n",
    "from sklearn.metrics import confusion_matrix\n",
    "cm = confusion_matrix(y_test, y_pre)\n",
    "print cm"
   ]
  },
  {
   "cell_type": "code",
   "execution_count": 45,
   "metadata": {},
   "outputs": [
    {
     "name": "stdout",
     "output_type": "stream",
     "text": [
      "('Accuracy Score:', 0.7246666666666667)\n",
      "              precision    recall  f1-score   support\n",
      "\n",
      "           0       0.89      0.74      0.81     11732\n",
      "           1       0.42      0.65      0.51      3268\n",
      "\n",
      "   micro avg       0.72      0.72      0.72     15000\n",
      "   macro avg       0.65      0.70      0.66     15000\n",
      "weighted avg       0.78      0.72      0.74     15000\n",
      "\n"
     ]
    }
   ],
   "source": [
    "#accuracy score for test = 50\n",
    "print(\"Accuracy Score:\",clf.score(X_test, y_test))\n",
    "\n",
    "\n",
    "accuracy_dt_2=[]\n",
    "\n",
    "\n",
    "accuracy_dt_2.append(clf.score(X_test, y_test))\n",
    "\n",
    "#classification report for test = 50\n",
    "from sklearn.metrics import classification_report\n",
    "print classification_report(y_test,y_pre)"
   ]
  },
  {
   "cell_type": "code",
   "execution_count": 46,
   "metadata": {},
   "outputs": [
    {
     "data": {
      "text/plain": [
       "array([1, 0, 0, ..., 0, 0, 0], dtype=int64)"
      ]
     },
     "execution_count": 46,
     "metadata": {},
     "output_type": "execute_result"
    }
   ],
   "source": [
    "#decission tree train = 60, test = 40\n",
    "target = 'default payment next month'\n",
    "features = features_tmp\n",
    "\n",
    "target = 'default payment next month'\n",
    "\n",
    "X=client[features].copy()\n",
    "y=client[target].copy()\n",
    "\n",
    "\n",
    "from sklearn.model_selection import train_test_split\n",
    "\n",
    "X_train, X_test, y_train, y_test = train_test_split(X,y,test_size=0.4,random_state=0)\n",
    "\n",
    "clf = DecisionTreeClassifier(class_weight='balanced', criterion='gini', max_depth=100,max_features=None, max_leaf_nodes=20,\n",
    "            min_impurity_decrease=0.0, min_impurity_split=None,\n",
    "            min_samples_leaf=10, min_samples_split=20,min_weight_fraction_leaf=0.0, presort=False, random_state=None,\n",
    "            splitter='best')\n",
    "            \n",
    "fit = clf.fit(X_train, y_train)\n",
    "\n",
    "y_pre = fit.predict(X_test)   \n",
    "y_pre\n"
   ]
  },
  {
   "cell_type": "code",
   "execution_count": 47,
   "metadata": {},
   "outputs": [
    {
     "name": "stdout",
     "output_type": "stream",
     "text": [
      "[[7898 1510]\n",
      " [1094 1498]]\n"
     ]
    }
   ],
   "source": [
    "#confusion matrix for test = 40\n",
    "from sklearn.metrics import confusion_matrix\n",
    "cm = confusion_matrix(y_test, y_pre)\n",
    "print cm"
   ]
  },
  {
   "cell_type": "code",
   "execution_count": 48,
   "metadata": {},
   "outputs": [
    {
     "name": "stdout",
     "output_type": "stream",
     "text": [
      "('Classification Score:', 0.783)\n",
      "              precision    recall  f1-score   support\n",
      "\n",
      "           0       0.88      0.84      0.86      9408\n",
      "           1       0.50      0.58      0.53      2592\n",
      "\n",
      "   micro avg       0.78      0.78      0.78     12000\n",
      "   macro avg       0.69      0.71      0.70     12000\n",
      "weighted avg       0.80      0.78      0.79     12000\n",
      "\n",
      "[0.7292666666666666, 0.783]\n"
     ]
    }
   ],
   "source": [
    "#accuracy for test = 40\n",
    "print(\"Classification Score:\",clf.score(X_test, y_test))\n",
    "accuracy_dt_1.append(clf.score(X_test, y_test))\n",
    "#classification report for test=40\n",
    "from sklearn.metrics import classification_report\n",
    "print classification_report(y_test,y_pre)\n",
    "print accuracy_dt_1"
   ]
  },
  {
   "cell_type": "code",
   "execution_count": 49,
   "metadata": {
    "collapsed": true
   },
   "outputs": [],
   "source": [
    "## tree visualisation for selected best model\n",
    "from sklearn import tree\n",
    "with open('client.dot', 'w') as f:\n",
    " f = tree.export_graphviz(clf, out_file=f, feature_names=features, \n",
    "                             class_names=target, filled=True, rounded=True, special_characters=True)"
   ]
  },
  {
   "cell_type": "code",
   "execution_count": 50,
   "metadata": {},
   "outputs": [
    {
     "name": "stderr",
     "output_type": "stream",
     "text": [
      "C:\\Users\\srika\\Anaconda2\\lib\\site-packages\\ipykernel_launcher.py:8: FutureWarning: Method .as_matrix will be removed in a future version. Use .values instead.\n",
      "  \n"
     ]
    },
    {
     "data": {
      "image/png": "[encoded data removed]",
      "text/plain": [
       "<Figure size 504x288 with 1 Axes>"
      ]
     },
     "metadata": {
      "needs_background": "light"
     },
     "output_type": "display_data"
    }
   ],
   "source": [
    "#feature importance for train = 60, test = 40\n",
    "import seaborn as sns\n",
    "\n",
    "tmp = pd.DataFrame({'Feature': features, 'Feature importance': clf.feature_importances_})\n",
    "tmp = tmp.sort_values(by='Feature importance',ascending=False)\n",
    "\n",
    "\n",
    "sel = tmp[tmp[\"Feature importance\"] >0.01].Feature.as_matrix().reshape(-1)\n",
    "\n",
    "plt.figure(figsize = (7,4))\n",
    "plt.title('Features importance',fontsize=14)\n",
    "s = sns.barplot(x='Feature',y='Feature importance',data=tmp)\n",
    "s.set_xticklabels(s.get_xticklabels(),rotation=90)\n",
    "plt.show()\n"
   ]
  },
  {
   "cell_type": "code",
   "execution_count": 51,
   "metadata": {
    "collapsed": true
   },
   "outputs": [],
   "source": [
    "target = 'default payment next month'\n",
    "features = sel\n",
    "X=client[features].copy()\n",
    "y=client[target].copy()"
   ]
  },
  {
   "cell_type": "code",
   "execution_count": 52,
   "metadata": {},
   "outputs": [
    {
     "data": {
      "text/plain": [
       "array([1, 0, 0, ..., 0, 0, 0], dtype=int64)"
      ]
     },
     "execution_count": 52,
     "metadata": {},
     "output_type": "execute_result"
    }
   ],
   "source": [
    "#decision tree for test = 60:40\n",
    "from sklearn.model_selection import train_test_split\n",
    "\n",
    "X_train, X_test, y_train, y_test = train_test_split(X,y,test_size=0.4,random_state=0)\n",
    "\n",
    "clf = DecisionTreeClassifier(class_weight='balanced', criterion='gini', max_depth=100,max_features=None, max_leaf_nodes=20,\n",
    "            min_impurity_decrease=0.0, min_impurity_split=None,\n",
    "            min_samples_leaf=10, min_samples_split=20\n",
    "            )\n",
    "fit = clf.fit(X_train, y_train)\n",
    "\n",
    "y_pre = fit.predict(X_test)   \n",
    "y_pre"
   ]
  },
  {
   "cell_type": "code",
   "execution_count": 53,
   "metadata": {},
   "outputs": [
    {
     "name": "stdout",
     "output_type": "stream",
     "text": [
      "[[7898 1510]\n",
      " [1094 1498]]\n"
     ]
    }
   ],
   "source": [
    "#confusion matrix for test = 40\n",
    "from sklearn.metrics import confusion_matrix\n",
    "cm = confusion_matrix(y_test, y_pre)\n",
    "print cm"
   ]
  },
  {
   "cell_type": "code",
   "execution_count": 54,
   "metadata": {},
   "outputs": [
    {
     "name": "stdout",
     "output_type": "stream",
     "text": [
      "0.783\n"
     ]
    }
   ],
   "source": [
    "#accuracy for test = 40\n",
    "print(clf.score(X_test, y_test))"
   ]
  },
  {
   "cell_type": "code",
   "execution_count": 55,
   "metadata": {},
   "outputs": [
    {
     "name": "stdout",
     "output_type": "stream",
     "text": [
      "              precision    recall  f1-score   support\n",
      "\n",
      "           0       0.88      0.84      0.86      9408\n",
      "           1       0.50      0.58      0.53      2592\n",
      "\n",
      "   micro avg       0.78      0.78      0.78     12000\n",
      "   macro avg       0.69      0.71      0.70     12000\n",
      "weighted avg       0.80      0.78      0.79     12000\n",
      "\n",
      "[0.7246666666666667, 0.783]\n"
     ]
    }
   ],
   "source": [
    "#classification report for test = 40\n",
    "accuracy_dt_2.append(clf.score(X_test, y_test))\n",
    "\n",
    "from sklearn.metrics import classification_report\n",
    "print classification_report(y_test,y_pre)\n",
    "\n",
    "\n",
    "print accuracy_dt_2"
   ]
  },
  {
   "cell_type": "code",
   "execution_count": 56,
   "metadata": {},
   "outputs": [
    {
     "data": {
      "text/plain": [
       "array([1, 1, 0, ..., 0, 1, 0], dtype=int64)"
      ]
     },
     "execution_count": 56,
     "metadata": {},
     "output_type": "execute_result"
    }
   ],
   "source": [
    "##decision tree 80% train\n",
    "features = features_tmp\n",
    "target = 'default payment next month'\n",
    "\n",
    "X=client[features].copy()\n",
    "y=client[target].copy()\n",
    "\n",
    "#decision tree for test = 80:20\n",
    "from sklearn.model_selection import train_test_split\n",
    "\n",
    "X_train, X_test, y_train, y_test = train_test_split(X,y,test_size=0.2,random_state=0)\n",
    "\n",
    "clf = DecisionTreeClassifier(class_weight='balanced', criterion='gini', max_depth=10,max_features=None, max_leaf_nodes=20,\n",
    "            min_impurity_decrease=0.0, min_impurity_split=None,\n",
    "            min_samples_leaf=10, min_samples_split=20,\n",
    "            min_weight_fraction_leaf=0.0, presort=False, random_state=None,\n",
    "            splitter='best')\n",
    "fit = clf.fit(X_train, y_train)\n",
    "\n",
    "y_pre = fit.predict(X_test)   \n",
    "y_pre"
   ]
  },
  {
   "cell_type": "code",
   "execution_count": 57,
   "metadata": {},
   "outputs": [
    {
     "name": "stdout",
     "output_type": "stream",
     "text": [
      "[[3872  831]\n",
      " [ 535  762]]\n"
     ]
    }
   ],
   "source": [
    "#confusion matrix for test = 20\n",
    "from sklearn.metrics import confusion_matrix\n",
    "cm = confusion_matrix(y_test, y_pre)\n",
    "print cm"
   ]
  },
  {
   "cell_type": "code",
   "execution_count": 58,
   "metadata": {},
   "outputs": [
    {
     "name": "stdout",
     "output_type": "stream",
     "text": [
      "0.7723333333333333\n",
      "              precision    recall  f1-score   support\n",
      "\n",
      "           0       0.88      0.82      0.85      4703\n",
      "           1       0.48      0.59      0.53      1297\n",
      "\n",
      "   micro avg       0.77      0.77      0.77      6000\n",
      "   macro avg       0.68      0.71      0.69      6000\n",
      "weighted avg       0.79      0.77      0.78      6000\n",
      "\n",
      "[0.7292666666666666, 0.783, 0.7723333333333333]\n"
     ]
    }
   ],
   "source": [
    "#accuracy for test = 20\n",
    "\n",
    "accuracy_dt_1.append(clf.score(X_test, y_test))\n",
    "print(clf.score(X_test,\n",
    "                y_test))\n",
    "#classification report for test = 20\n",
    "from sklearn.metrics import classification_report\n",
    "print classification_report(y_test,y_pre)\n",
    "print accuracy_dt_1"
   ]
  },
  {
   "cell_type": "code",
   "execution_count": 59,
   "metadata": {},
   "outputs": [
    {
     "name": "stderr",
     "output_type": "stream",
     "text": [
      "C:\\Users\\srika\\Anaconda2\\lib\\site-packages\\ipykernel_launcher.py:8: FutureWarning: Method .as_matrix will be removed in a future version. Use .values instead.\n",
      "  \n"
     ]
    },
    {
     "data": {
      "image/png": "[encoded data removed]",
      "text/plain": [
       "<Figure size 504x288 with 1 Axes>"
      ]
     },
     "metadata": {
      "needs_background": "light"
     },
     "output_type": "display_data"
    }
   ],
   "source": [
    "#feature importance for train = 80, test = 20\n",
    "import seaborn as sns\n",
    "\n",
    "tmp = pd.DataFrame({'Feature': features, 'Feature importance': clf.feature_importances_})\n",
    "tmp = tmp.sort_values(by='Feature importance',ascending=False)\n",
    "\n",
    "\n",
    "sel = tmp[tmp[\"Feature importance\"] >0.01].Feature.as_matrix().reshape(-1)\n",
    "\n",
    "plt.figure(figsize = (7,4))\n",
    "plt.title('Features importance',fontsize=14)\n",
    "s = sns.barplot(x='Feature',y='Feature importance',data=tmp)\n",
    "s.set_xticklabels(s.get_xticklabels(),rotation=90)\n",
    "plt.show()\n"
   ]
  },
  {
   "cell_type": "code",
   "execution_count": 60,
   "metadata": {
    "collapsed": true
   },
   "outputs": [],
   "source": [
    "target = 'default payment next month'\n",
    "features = sel\n",
    "X=client[features].copy() \n",
    "\n",
    "y=client[target].copy()"
   ]
  },
  {
   "cell_type": "code",
   "execution_count": 61,
   "metadata": {},
   "outputs": [
    {
     "data": {
      "text/plain": [
       "array([1, 1, 0, ..., 0, 1, 0], dtype=int64)"
      ]
     },
     "execution_count": 61,
     "metadata": {},
     "output_type": "execute_result"
    }
   ],
   "source": [
    "#decision tree for test = 80:20\n",
    "from sklearn.model_selection import train_test_split\n",
    "\n",
    "X_train, X_test, y_train, y_test = train_test_split(X,y,test_size=0.2,random_state=0)\n",
    "\n",
    "clf = DecisionTreeClassifier(class_weight='balanced', criterion='gini', max_depth=100,max_features=None, max_leaf_nodes=20,\n",
    "            min_impurity_decrease=0.0, min_impurity_split=None,\n",
    "            min_samples_leaf=10, min_samples_split=20,\n",
    "            min_weight_fraction_leaf=0.0, presort=False, random_state=None,\n",
    "            splitter='best')\n",
    "fit = clf.fit(X_train, y_train)\n",
    "\n",
    "y_pre = fit.predict(X_test)   \n",
    "y_pre"
   ]
  },
  {
   "cell_type": "code",
   "execution_count": 62,
   "metadata": {},
   "outputs": [
    {
     "name": "stdout",
     "output_type": "stream",
     "text": [
      "[[3872  831]\n",
      " [ 535  762]]\n",
      "[0.7246666666666667, 0.783, 0.7723333333333333]\n"
     ]
    }
   ],
   "source": [
    "#confusion matrix for test = 20\n",
    "from sklearn.metrics import confusion_matrix\n",
    "cm = confusion_matrix(y_test, y_pre)\n",
    "print cm \n",
    "accuracy_dt_2.append(clf.score(X_test, y_test))\n",
    "print accuracy_dt_2"
   ]
  },
  {
   "cell_type": "code",
   "execution_count": 63,
   "metadata": {},
   "outputs": [
    {
     "name": "stdout",
     "output_type": "stream",
     "text": [
      "0.7723333333333333\n"
     ]
    }
   ],
   "source": [
    "#accuracy for test = 20\n",
    "print(clf.score(X_test, y_test)) \n"
   ]
  },
  {
   "cell_type": "code",
   "execution_count": 64,
   "metadata": {},
   "outputs": [
    {
     "name": "stdout",
     "output_type": "stream",
     "text": [
      "              precision    recall  f1-score   support\n",
      "\n",
      "           0       0.88      0.82      0.85      4703\n",
      "           1       0.48      0.59      0.53      1297\n",
      "\n",
      "   micro avg       0.77      0.77      0.77      6000\n",
      "   macro avg       0.68      0.71      0.69      6000\n",
      "weighted avg       0.79      0.77      0.78      6000\n",
      "\n"
     ]
    }
   ],
   "source": [
    "#classification report for test = 20\n",
    "from sklearn.metrics import classification_report\n",
    "print classification_report(y_test,y_pre)"
   ]
  },
  {
   "cell_type": "code",
   "execution_count": 65,
   "metadata": {},
   "outputs": [
    {
     "data": {
      "text/plain": [
       "array([1, 1, 0, ..., 0, 0, 0], dtype=int64)"
      ]
     },
     "execution_count": 65,
     "metadata": {},
     "output_type": "execute_result"
    }
   ],
   "source": [
    "###KNN  all features\n",
    "target = 'default payment next month'\n",
    "features =  features_tmp\n",
    "X=client[features].copy()\n",
    "y=client[target].copy()\n",
    "\n",
    "#KNN for test size=50\n",
    "from sklearn.model_selection import train_test_split\n",
    "\n",
    "X_train, X_test, y_train, y_test = train_test_split(X,y,test_size=0.5,random_state= 0)\n",
    "\n",
    "from sklearn.neighbors import KNeighborsClassifier \n",
    "\n",
    "\n",
    "clf = KNeighborsClassifier(5,weights= 'uniform' ,p=1)\n",
    "\n",
    "\n",
    "fit = clf.fit(X_train, y_train)\n",
    "y_pre = fit.predict(X_test)   \n",
    "y_pre"
   ]
  },
  {
   "cell_type": "code",
   "execution_count": 66,
   "metadata": {
    "scrolled": true
   },
   "outputs": [
    {
     "name": "stdout",
     "output_type": "stream",
     "text": [
      "[[10665  1067]\n",
      " [ 2645   623]]\n",
      "[0.7525333333333334]\n"
     ]
    }
   ],
   "source": [
    "#confusion matrix for test = 50\n",
    "from sklearn.metrics import confusion_matrix\n",
    "cm = confusion_matrix(y_test, y_pre)\n",
    "print cm\n",
    "accuracy_knn_1=[]\n",
    "accuracy_knn_1.append(clf.score(X_test, y_test))\n",
    "print accuracy_knn_1"
   ]
  },
  {
   "cell_type": "code",
   "execution_count": 67,
   "metadata": {},
   "outputs": [
    {
     "name": "stdout",
     "output_type": "stream",
     "text": [
      "0.7525333333333334\n"
     ]
    }
   ],
   "source": [
    "#accuracy for test = 50\n",
    "print(clf.score(X_test, y_test))"
   ]
  },
  {
   "cell_type": "code",
   "execution_count": 68,
   "metadata": {},
   "outputs": [
    {
     "name": "stdout",
     "output_type": "stream",
     "text": [
      "              precision    recall  f1-score   support\n",
      "\n",
      "           0       0.80      0.91      0.85     11732\n",
      "           1       0.37      0.19      0.25      3268\n",
      "\n",
      "   micro avg       0.75      0.75      0.75     15000\n",
      "   macro avg       0.58      0.55      0.55     15000\n",
      "weighted avg       0.71      0.75      0.72     15000\n",
      "\n"
     ]
    }
   ],
   "source": [
    "#classification report for test = 50\n",
    "from sklearn.metrics import classification_report\n",
    "print classification_report(y_test,y_pre)"
   ]
  },
  {
   "cell_type": "code",
   "execution_count": 69,
   "metadata": {},
   "outputs": [
    {
     "name": "stdout",
     "output_type": "stream",
     "text": [
      "Score with 1 selected features: 0.7821333333333333\n",
      "Score with 2 selected features: 0.7928666666666667\n",
      "Score with 3 selected features: 0.8014666666666667\n",
      "Score with 4 selected features: 0.8021333333333334\n",
      "Score with 5 selected features: 0.8116\n"
     ]
    }
   ],
   "source": [
    "# hill climbing technique\n",
    "from sklearn.utils import shuffle\n",
    "new_Ind = []\n",
    "cur_MaxScore = 0.0\n",
    "col_num = 20\n",
    "col_Ind_Random = shuffle(range(0,col_num), random_state=1)\n",
    "for cur_f in range(0, col_num):\n",
    "  new_Ind.append(col_Ind_Random[cur_f])\n",
    "  newData = X.iloc[:, new_Ind]\n",
    "  X_train, X_test, y_train, y_test = train_test_split(newData,y, test_size=0.5, random_state=0)\n",
    "  clf = KNeighborsClassifier(10, weights='distance', p=1)\n",
    "  fit = clf.fit(X_train, y_train)\n",
    "  cur_Score = clf.score(X_test, y_test)\n",
    "  if cur_Score < cur_MaxScore:\n",
    "     new_Ind.remove(col_Ind_Random[cur_f])\n",
    "  else:\n",
    "     cur_MaxScore = cur_Score\n",
    "     print \"Score with \" + str(len(new_Ind)) + \" selected features: \" + str(cur_Score)"
   ]
  },
  {
   "cell_type": "code",
   "execution_count": 70,
   "metadata": {},
   "outputs": [
    {
     "name": "stdout",
     "output_type": "stream",
     "text": [
      "There are 5 features selected:\n",
      "[3, 6, 10, 1, 5]\n"
     ]
    }
   ],
   "source": [
    "print \"There are \" + str(len(new_Ind)) + \" features selected:\"\n",
    "\n",
    "print new_Ind"
   ]
  },
  {
   "cell_type": "code",
   "execution_count": 71,
   "metadata": {
    "collapsed": true
   },
   "outputs": [],
   "source": [
    "def feat():\n",
    "    a=[]\n",
    "    for x in new_Ind:\n",
    "        a.append(column[x])\n",
    "    return a\n"
   ]
  },
  {
   "cell_type": "code",
   "execution_count": 72,
   "metadata": {},
   "outputs": [
    {
     "name": "stdout",
     "output_type": "stream",
     "text": [
      "['MARRIAGE', 'PAY_3', 'BILL_AMT2', 'SEX', 'PAY_2']\n"
     ]
    }
   ],
   "source": [
    "# printing selected features from above feature engineering command\n",
    "features = feat()\n",
    "\n",
    "X=client[features].copy()\n",
    "y=client[target].copy()\n",
    "print features"
   ]
  },
  {
   "cell_type": "code",
   "execution_count": 73,
   "metadata": {},
   "outputs": [
    {
     "data": {
      "text/plain": [
       "array([1, 0, 0, ..., 0, 0, 0], dtype=int64)"
      ]
     },
     "execution_count": 73,
     "metadata": {},
     "output_type": "execute_result"
    }
   ],
   "source": [
    "#KNN redo for test size=50 #featured\n",
    "features=feat()\n",
    "X=client[features].copy()\n",
    "y=client[target].copy()\n",
    "\n",
    "from sklearn.model_selection import train_test_split\n",
    "\n",
    "X_train, X_test, y_train, y_test = train_test_split(X,y,test_size=0.5,random_state= 0)\n",
    "\n",
    "from sklearn.neighbors import KNeighborsClassifier  \n",
    "clf = KNeighborsClassifier(5,weights= 'distance' ,p=1) #,self_client = check_weights(client))\n",
    "\n",
    "fit = clf.fit(X_train, y_train)\n",
    "y_pre = fit.predict(X_test)   \n",
    "y_pre\n"
   ]
  },
  {
   "cell_type": "code",
   "execution_count": 74,
   "metadata": {},
   "outputs": [
    {
     "name": "stdout",
     "output_type": "stream",
     "text": [
      "[[10419  1313]\n",
      " [ 2792   476]]\n",
      "[0.7263333333333334]\n"
     ]
    }
   ],
   "source": [
    "#confusion matrix for test = 50\n",
    "from sklearn.metrics import confusion_matrix\n",
    "cm = confusion_matrix(y_test, y_pre)\n",
    "print cm\n",
    "accuracy_knn_2=[]\n",
    "accuracy_knn_2.append(clf.score(X_test, y_test))\n",
    "print accuracy_knn_2"
   ]
  },
  {
   "cell_type": "code",
   "execution_count": 75,
   "metadata": {},
   "outputs": [
    {
     "name": "stdout",
     "output_type": "stream",
     "text": [
      "0.7263333333333334\n"
     ]
    }
   ],
   "source": [
    "#accuracy for test = 50\n",
    "print(clf.score(X_test, y_test))"
   ]
  },
  {
   "cell_type": "code",
   "execution_count": 76,
   "metadata": {},
   "outputs": [
    {
     "name": "stdout",
     "output_type": "stream",
     "text": [
      "              precision    recall  f1-score   support\n",
      "\n",
      "           0       0.79      0.89      0.84     11732\n",
      "           1       0.27      0.15      0.19      3268\n",
      "\n",
      "   micro avg       0.73      0.73      0.73     15000\n",
      "   macro avg       0.53      0.52      0.51     15000\n",
      "weighted avg       0.67      0.73      0.69     15000\n",
      "\n"
     ]
    }
   ],
   "source": [
    "#classification report for test = 50\n",
    "from sklearn.metrics import classification_report\n",
    "print classification_report(y_test,y_pre)"
   ]
  },
  {
   "cell_type": "code",
   "execution_count": 77,
   "metadata": {},
   "outputs": [
    {
     "data": {
      "text/plain": [
       "array([1, 1, 0, ..., 0, 0, 0], dtype=int64)"
      ]
     },
     "execution_count": 77,
     "metadata": {},
     "output_type": "execute_result"
    }
   ],
   "source": [
    "#KNN For test size=40\n",
    "target = 'default payment next month'\n",
    "features = features_tmp\n",
    "\n",
    "\n",
    "X=client[features].copy()\n",
    "y=client[target].copy()\n",
    "\n",
    "from sklearn.model_selection import train_test_split\n",
    "\n",
    "X_train, X_test, y_train, y_test = train_test_split(X,y,test_size=0.6,random_state= 0)\n",
    "\n",
    "from sklearn.neighbors import KNeighborsClassifier  \n",
    "clf = KNeighborsClassifier(5,weights= 'distance' ,p=1)\n",
    "fit = clf.fit(X_train, y_train)\n",
    "y_pre = fit.predict(X_test)   \n",
    "y_pre"
   ]
  },
  {
   "cell_type": "code",
   "execution_count": 78,
   "metadata": {},
   "outputs": [
    {
     "name": "stdout",
     "output_type": "stream",
     "text": [
      "[[12696  1370]\n",
      " [ 3151   783]]\n"
     ]
    }
   ],
   "source": [
    "#confusion matrix for test = 40\n",
    "from sklearn.metrics import confusion_matrix\n",
    "cm = confusion_matrix(y_test, y_pre)\n",
    "print cm"
   ]
  },
  {
   "cell_type": "code",
   "execution_count": 79,
   "metadata": {},
   "outputs": [
    {
     "name": "stdout",
     "output_type": "stream",
     "text": [
      "0.7488333333333334\n",
      "[0.7525333333333334, 0.7488333333333334]\n"
     ]
    }
   ],
   "source": [
    "#accuracy for test = 40\n",
    "accuracy_knn_1.append(clf.score(X_test, y_test))\n",
    "print(clf.score(X_test, y_test))\n",
    "print accuracy_knn_1"
   ]
  },
  {
   "cell_type": "code",
   "execution_count": 80,
   "metadata": {},
   "outputs": [
    {
     "name": "stdout",
     "output_type": "stream",
     "text": [
      "              precision    recall  f1-score   support\n",
      "\n",
      "           0       0.80      0.90      0.85     14066\n",
      "           1       0.36      0.20      0.26      3934\n",
      "\n",
      "   micro avg       0.75      0.75      0.75     18000\n",
      "   macro avg       0.58      0.55      0.55     18000\n",
      "weighted avg       0.71      0.75      0.72     18000\n",
      "\n"
     ]
    }
   ],
   "source": [
    "#classificaton report for test=40\n",
    "from sklearn.metrics import classification_report\n",
    "print classification_report(y_test,y_pre)"
   ]
  },
  {
   "cell_type": "code",
   "execution_count": 81,
   "metadata": {},
   "outputs": [
    {
     "name": "stdout",
     "output_type": "stream",
     "text": [
      "Score with 1 selected features: 0.784\n",
      "Score with 2 selected features: 0.8001666666666667\n",
      "Score with 3 selected features: 0.8101666666666667\n"
     ]
    }
   ],
   "source": [
    "#Hill climbing technique for test 40\n",
    "from sklearn.utils import shuffle\n",
    "new_Ind = []\n",
    "cur_MaxScore = 0.0\n",
    "col_num = 20\n",
    "col_Ind_Random = shuffle(range(0,col_num), random_state=1)\n",
    "for cur_f in range(0, col_num):\n",
    "  new_Ind.append(col_Ind_Random[cur_f])\n",
    "  newData = X.iloc[:, new_Ind]\n",
    "  X_train, X_test, y_train, y_test = train_test_split(newData,y, test_size=0.4, random_state=0)\n",
    "  clf = KNeighborsClassifier(5, weights='distance', p=1)\n",
    "  fit = clf.fit(X_train, y_train)\n",
    "  cur_Score = clf.score(X_test, y_test)\n",
    "  if cur_Score < cur_MaxScore:\n",
    "     new_Ind.remove(col_Ind_Random[cur_f])\n",
    "  else:\n",
    "     cur_MaxScore = cur_Score\n",
    "     print \"Score with \" + str(len(new_Ind)) + \" selected features: \" + str(cur_Score)"
   ]
  },
  {
   "cell_type": "code",
   "execution_count": 82,
   "metadata": {},
   "outputs": [
    {
     "name": "stdout",
     "output_type": "stream",
     "text": [
      "There are 3 features selected:\n",
      "[3, 6, 5]\n"
     ]
    }
   ],
   "source": [
    "# printing selected features from feature engineering command\n",
    "print \"There are \" + str(len(new_Ind)) + \" features selected:\"\n",
    "\n",
    "print new_Ind"
   ]
  },
  {
   "cell_type": "code",
   "execution_count": 83,
   "metadata": {},
   "outputs": [
    {
     "data": {
      "text/plain": [
       "array([1, 0, 0, ..., 0, 0, 0], dtype=int64)"
      ]
     },
     "execution_count": 83,
     "metadata": {},
     "output_type": "execute_result"
    }
   ],
   "source": [
    "#KNN redo For test size=40 #featured\n",
    "\n",
    "features=feat()\n",
    "\n",
    "X=client[features].copy()\n",
    "y=client[target].copy()\n",
    "\n",
    "\n",
    "from sklearn.model_selection import train_test_split\n",
    "\n",
    "X_train, X_test, y_train, y_test = train_test_split(X,y,test_size=0.4,random_state= 0)\n",
    "\n",
    "from sklearn.neighbors import KNeighborsClassifier  \n",
    "clf = KNeighborsClassifier(20,weights= 'distance' ,p=1)\n",
    "fit = clf.fit(X_train, y_train)\n",
    "y_pre = fit.predict(X_test)   \n",
    "y_pre"
   ]
  },
  {
   "cell_type": "code",
   "execution_count": 84,
   "metadata": {},
   "outputs": [
    {
     "name": "stdout",
     "output_type": "stream",
     "text": [
      "[[8989  419]\n",
      " [1928  664]]\n"
     ]
    }
   ],
   "source": [
    "#confusion matrix for test = 40\n",
    "from sklearn.metrics import confusion_matrix\n",
    "cm = confusion_matrix(y_test, y_pre)\n",
    "print cm"
   ]
  },
  {
   "cell_type": "code",
   "execution_count": 85,
   "metadata": {},
   "outputs": [
    {
     "name": "stdout",
     "output_type": "stream",
     "text": [
      "0.8044166666666667\n",
      "[0.7263333333333334, 0.8044166666666667]\n"
     ]
    }
   ],
   "source": [
    "#accuracy for test = 40\n",
    "print(clf.score(X_test, y_test))\n",
    "accuracy_knn_2.append(clf.score(X_test, y_test))\n",
    "print accuracy_knn_2"
   ]
  },
  {
   "cell_type": "code",
   "execution_count": 86,
   "metadata": {},
   "outputs": [
    {
     "name": "stdout",
     "output_type": "stream",
     "text": [
      "              precision    recall  f1-score   support\n",
      "\n",
      "           0       0.82      0.96      0.88      9408\n",
      "           1       0.61      0.26      0.36      2592\n",
      "\n",
      "   micro avg       0.80      0.80      0.80     12000\n",
      "   macro avg       0.72      0.61      0.62     12000\n",
      "weighted avg       0.78      0.80      0.77     12000\n",
      "\n"
     ]
    }
   ],
   "source": [
    "#classificaton report for test=40\n",
    "from sklearn.metrics import classification_report\n",
    "print classification_report(y_test,y_pre)"
   ]
  },
  {
   "cell_type": "code",
   "execution_count": 87,
   "metadata": {},
   "outputs": [
    {
     "data": {
      "text/plain": [
       "array([1, 1, 0, ..., 0, 1, 1], dtype=int64)"
      ]
     },
     "execution_count": 87,
     "metadata": {},
     "output_type": "execute_result"
    }
   ],
   "source": [
    "#KNN For test size=20\n",
    "target = 'default payment next month'\n",
    "features =features_tmp\n",
    "\n",
    "X=client[features].copy()\n",
    "y=client[target].copy()\n",
    "\n",
    "from sklearn.model_selection import train_test_split\n",
    "\n",
    "X_train, X_test, y_train, y_test = train_test_split(X,y,test_size=0.2,random_state= 0)\n",
    "\n",
    "from sklearn.neighbors import KNeighborsClassifier  \n",
    "clf = KNeighborsClassifier(5,weights= 'distance' ,p=1)\n",
    "#clf = KNeighborsClassifier(5)\n",
    "fit = clf.fit(X_train, y_train)\n",
    "y_pre = fit.predict(X_test)   \n",
    "y_pre"
   ]
  },
  {
   "cell_type": "code",
   "execution_count": 88,
   "metadata": {},
   "outputs": [
    {
     "name": "stdout",
     "output_type": "stream",
     "text": [
      "[[4291  412]\n",
      " [1037  260]]\n"
     ]
    }
   ],
   "source": [
    "#confusion matrix for test =20\n",
    "from sklearn.metrics import confusion_matrix\n",
    "cm = confusion_matrix(y_test, y_pre)\n",
    "print cm"
   ]
  },
  {
   "cell_type": "code",
   "execution_count": 89,
   "metadata": {},
   "outputs": [
    {
     "name": "stdout",
     "output_type": "stream",
     "text": [
      "0.7585\n"
     ]
    }
   ],
   "source": [
    "#accuracy for test = 20\n",
    "print(clf.score(X_test, y_test))"
   ]
  },
  {
   "cell_type": "code",
   "execution_count": 90,
   "metadata": {},
   "outputs": [
    {
     "name": "stdout",
     "output_type": "stream",
     "text": [
      "              precision    recall  f1-score   support\n",
      "\n",
      "           0       0.81      0.91      0.86      4703\n",
      "           1       0.39      0.20      0.26      1297\n",
      "\n",
      "   micro avg       0.76      0.76      0.76      6000\n",
      "   macro avg       0.60      0.56      0.56      6000\n",
      "weighted avg       0.71      0.76      0.73      6000\n",
      "\n",
      "[0.7525333333333334, 0.7488333333333334, 0.7585]\n"
     ]
    }
   ],
   "source": [
    "#classifiucation report for test = 20\n",
    "from sklearn.metrics import classification_report\n",
    "print classification_report(y_test,y_pre)\n",
    "accuracy_knn_1.append(clf.score(X_test, y_test))\n",
    "print accuracy_knn_1"
   ]
  },
  {
   "cell_type": "code",
   "execution_count": 91,
   "metadata": {},
   "outputs": [
    {
     "name": "stdout",
     "output_type": "stream",
     "text": [
      "Score with 1 selected features: 0.7838333333333334\n",
      "Score with 2 selected features: 0.7943333333333333\n",
      "Score with 3 selected features: 0.7965\n",
      "Score with 4 selected features: 0.805\n"
     ]
    }
   ],
   "source": [
    "# Hill climbing technique for test 20\n",
    "from sklearn.utils import shuffle\n",
    "new_Ind = []\n",
    "cur_MaxScore = 0.0\n",
    "col_num = 20\n",
    "col_Ind_Random = shuffle(range(0,col_num), random_state=1)\n",
    "for cur_f in range(0, col_num):\n",
    "  new_Ind.append(col_Ind_Random[cur_f])\n",
    "  newData = X.iloc[:, new_Ind]\n",
    "  X_train, X_test, y_train, y_test = train_test_split(newData,y, test_size=0.2, random_state=0)\n",
    "  clf = KNeighborsClassifier(5, weights='distance', p=1)\n",
    "  fit = clf.fit(X_train, y_train)\n",
    "  cur_Score = clf.score(X_test, y_test)\n",
    "  if cur_Score < cur_MaxScore:\n",
    "     new_Ind.remove(col_Ind_Random[cur_f])\n",
    "  else:\n",
    "     cur_MaxScore = cur_Score\n",
    "     print \"Score with \" + str(len(new_Ind)) + \" selected features: \" + str(cur_Score)"
   ]
  },
  {
   "cell_type": "code",
   "execution_count": 92,
   "metadata": {},
   "outputs": [
    {
     "name": "stdout",
     "output_type": "stream",
     "text": [
      "There are 4 features selected:\n",
      "[3, 6, 1, 5]\n"
     ]
    }
   ],
   "source": [
    "print \"There are \" + str(len(new_Ind)) + \" features selected:\"\n",
    "print new_Ind"
   ]
  },
  {
   "cell_type": "code",
   "execution_count": 93,
   "metadata": {
    "collapsed": true
   },
   "outputs": [],
   "source": [
    "target = 'default payment next month'\n",
    "features = feat()\n",
    "X=client[features].copy()\n",
    "y=client[target].copy()"
   ]
  },
  {
   "cell_type": "code",
   "execution_count": 94,
   "metadata": {},
   "outputs": [
    {
     "data": {
      "text/plain": [
       "array([1, 0, 0, ..., 0, 1, 0], dtype=int64)"
      ]
     },
     "execution_count": 94,
     "metadata": {},
     "output_type": "execute_result"
    }
   ],
   "source": [
    "#KNN For test size=20 # featured\n",
    "from sklearn.model_selection import train_test_split\n",
    "\n",
    "X_train, X_test, y_train, y_test = train_test_split(X,y,test_size=0.2,random_state= 0)\n",
    "\n",
    "from sklearn.neighbors import KNeighborsClassifier  \n",
    "clf = KNeighborsClassifier(5,weights= 'distance' ,p=1)\n",
    "#clf = KNeighborsClassifier(5)\n",
    "fit = clf.fit(X_train, y_train)\n",
    "y_pre = fit.predict(X_test)   \n",
    "y_pre"
   ]
  },
  {
   "cell_type": "code",
   "execution_count": 95,
   "metadata": {},
   "outputs": [
    {
     "name": "stdout",
     "output_type": "stream",
     "text": [
      "[[4467  236]\n",
      " [ 948  349]]\n"
     ]
    }
   ],
   "source": [
    "#confusion matrix for test =20\n",
    "from sklearn.metrics import confusion_matrix\n",
    "cm = confusion_matrix(y_test, y_pre)\n",
    "print cm"
   ]
  },
  {
   "cell_type": "code",
   "execution_count": 96,
   "metadata": {},
   "outputs": [
    {
     "name": "stdout",
     "output_type": "stream",
     "text": [
      "0.8026666666666666\n"
     ]
    }
   ],
   "source": [
    "#accuracy for test = 20\n",
    "\n",
    "print(clf.score(X_test, y_test))"
   ]
  },
  {
   "cell_type": "code",
   "execution_count": 97,
   "metadata": {},
   "outputs": [
    {
     "name": "stdout",
     "output_type": "stream",
     "text": [
      "              precision    recall  f1-score   support\n",
      "\n",
      "           0       0.82      0.95      0.88      4703\n",
      "           1       0.60      0.27      0.37      1297\n",
      "\n",
      "   micro avg       0.80      0.80      0.80      6000\n",
      "   macro avg       0.71      0.61      0.63      6000\n",
      "weighted avg       0.78      0.80      0.77      6000\n",
      "\n",
      "[0.7263333333333334, 0.8044166666666667, 0.8026666666666666]\n"
     ]
    }
   ],
   "source": [
    "#classifiucation report for test = 20\n",
    "\n",
    "from sklearn.metrics import classification_report\n",
    "print classification_report(y_test,y_pre)\n",
    "accuracy_knn_2.append(clf.score(X_test, y_test))\n",
    "print accuracy_knn_2"
   ]
  },
  {
   "cell_type": "code",
   "execution_count": 98,
   "metadata": {},
   "outputs": [
    {
     "name": "stdout",
     "output_type": "stream",
     "text": [
      "[0.7292666666666666, 0.783, 0.7723333333333333]\n",
      "[0.7246666666666667, 0.783, 0.7723333333333333]\n",
      "[0.7525333333333334, 0.7488333333333334, 0.7585]\n",
      "[0.7263333333333334, 0.8044166666666667, 0.8026666666666666]\n"
     ]
    }
   ],
   "source": [
    "# print accuracy array of decision tree before feature engineering\n",
    "print accuracy_dt_1\n",
    "\n",
    "# print accuracy array of decision tree after feature engineering\n",
    "print accuracy_dt_2\n",
    "\n",
    "# print accuracy array of KNN before feature engineering\n",
    "print accuracy_knn_1\n",
    "\n",
    "# print accuracy array of KNN after feature engineering\n",
    "print accuracy_knn_2\n"
   ]
  },
  {
   "cell_type": "code",
   "execution_count": 99,
   "metadata": {},
   "outputs": [
    {
     "data": {
      "text/plain": [
       "<matplotlib.legend.Legend at 0xb133128>"
      ]
     },
     "execution_count": 99,
     "metadata": {},
     "output_type": "execute_result"
    },
    {
     "data": {
      "image/png": "[encoded data removed]",
      "text/plain": [
       "<Figure size 432x288 with 1 Axes>"
      ]
     },
     "metadata": {
      "needs_background": "light"
     },
     "output_type": "display_data"
    }
   ],
   "source": [
    "# plot to prove decision tree results are same before and after feature engineering\n",
    "plt.plot(accuracy_dt_1,color='olive')\n",
    "plt.plot(accuracy_dt_2)\n",
    "\n",
    "plt.legend()"
   ]
  },
  {
   "cell_type": "code",
   "execution_count": 100,
   "metadata": {},
   "outputs": [
    {
     "data": {
      "text/plain": [
       "[<matplotlib.lines.Line2D at 0xf9ddf60>]"
      ]
     },
     "execution_count": 100,
     "metadata": {},
     "output_type": "execute_result"
    },
    {
     "data": {
      "image/png": "[encoded data removed]",
      "text/plain": [
       "<Figure size 432x288 with 1 Axes>"
      ]
     },
     "metadata": {
      "needs_background": "light"
     },
     "output_type": "display_data"
    }
   ],
   "source": [
    "#plot to prove feature engineering improves accuracy of KNN\n",
    "plt.plot(accuracy_knn_1,color='olive')\n",
    "plt.plot(accuracy_knn_2)\n"
   ]
  }
 ],
 "metadata": {
  "kernelspec": {
   "display_name": "Python 2",
   "language": "python",
   "name": "python2"
  },
  "language_info": {
   "codemirror_mode": {
    "name": "ipython",
    "version": 2
   },
   "file_extension": ".py",
   "mimetype": "text/x-python",
   "name": "python",
   "nbconvert_exporter": "python",
   "pygments_lexer": "ipython2",
   "version": "2.7.16"
  }
 },
 "nbformat": 4,
 "nbformat_minor": 2
}
